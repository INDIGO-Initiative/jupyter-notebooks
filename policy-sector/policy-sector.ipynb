{
  "nbformat": 4,
  "nbformat_minor": 0,
  "metadata": {
    "colab": {
      "name": "policy-sector.ipynb",
      "provenance": [],
      "collapsed_sections": [
        "gP95rG-GLG3P"
      ]
    },
    "kernelspec": {
      "name": "python3",
      "display_name": "Python 3"
    }
  },
  "cells": [
    {
      "cell_type": "markdown",
      "metadata": {
        "id": "H2W-Z6hruY_6"
      },
      "source": [
        "# Policy sector\n"
      ]
    },
    {
      "cell_type": "markdown",
      "metadata": {
        "id": "EBAzdEvMdvMo"
      },
      "source": [
        "## INDIGO database API endpoint\n",
        "Setup INDIGO database API endpoint and helper methods for getting individual items from the API. This can be used with the `project`, `fund`, `organisation` and `assessment_resource` endpoints."
      ]
    },
    {
      "cell_type": "code",
      "metadata": {
        "id": "28txYxh_YW30"
      },
      "source": [
        "import requests\n",
        "\n",
        "import plotly.graph_objects as go\n",
        "\n",
        "\n",
        "INDIGO_DATABASE_API = 'https://golab-indigo-data-store.herokuapp.com/app/api1'\n",
        "\n",
        "\n",
        "def api_get_item(endpoint, public_id):\n",
        "    \"\"\"\n",
        "    Get individual item details from the API\n",
        "\n",
        "    E.g. \n",
        "    item = api_get_item('project', 'INDIGO-POJ-0158')\n",
        "    \"\"\"\n",
        "    try:\n",
        "        response = requests.get(f'{INDIGO_DATABASE_API}/{endpoint}/{public_id}')\n",
        "        item = response.json()\n",
        "        return item\n",
        "    except Exception as e:\n",
        "        print(f'\\nFailed to retrieve {endpoint} \"{public_id}\".\\nError: {e}')\n",
        "        return False"
      ],
      "execution_count": null,
      "outputs": []
    },
    {
      "cell_type": "markdown",
      "metadata": {
        "id": "WmV5HgsXnjhm"
      },
      "source": [
        "## Plot config\n",
        "Config for adding defined colours to the pie chart."
      ]
    },
    {
      "cell_type": "code",
      "metadata": {
        "id": "xG5hO-P-mnCA"
      },
      "source": [
        "COLOUR_MAP_POLICY_SECTOR = {\n",
        "    'Employment and training': '#ffa600',\n",
        "    'Child and family welfare': '#ff7c43',\n",
        "    'Homelessness': '#f95d6a',\n",
        "    'Health': '#d45087',\n",
        "    'Education': '#a05195',\n",
        "    'Criminal justice': '#665191',\n",
        "    'Agriculture and environment': '#3c77ab',\n",
        "    'Poverty reduction': '#00629b',\n",
        "    'Unknown': '#2f4b7c',\n",
        "}\n",
        "\n",
        "DEFAULT_PIE_CHART_CONFIG = {\n",
        "    'hole': 0.35,\n",
        "    'sort': True,\n",
        "    'direction': 'clockwise',\n",
        "    'marker': {\n",
        "        'line': {\n",
        "            'color': 'white',\n",
        "            'width': 2,\n",
        "        },\n",
        "    },\n",
        "    'hovertemplate': '<b>%{label}</b><br>Value: %{value:}<br>Percent: %{percent:.1%}<extra></extra>',\n",
        "}"
      ],
      "execution_count": null,
      "outputs": []
    },
    {
      "cell_type": "markdown",
      "metadata": {
        "id": "2d0PaZ5bdLOp"
      },
      "source": [
        "## Get project data\n",
        "Now we actually call the INDIGO API 'project' endpoint and retrieve the data for each of the projects of interest."
      ]
    },
    {
      "cell_type": "code",
      "metadata": {
        "id": "KJWBuo4Cbj55"
      },
      "source": [
        "# Call the API and pull down the data for each project\n",
        "# and store in a dictionary for use later.\n",
        "public_ids = [\n",
        "    'INDIGO-POJ-0167', 'INDIGO-POJ-0168', 'INDIGO-POJ-0169', 'INDIGO-POJ-0170', 'INDIGO-POJ-0171', 'INDIGO-POJ-0172',\n",
        "    'INDIGO-POJ-0173', 'INDIGO-POJ-0174', 'INDIGO-POJ-0175', 'INDIGO-POJ-0176', 'INDIGO-POJ-0177', 'INDIGO-POJ-0178',\n",
        "    'INDIGO-POJ-0179', 'INDIGO-POJ-0180', 'INDIGO-POJ-0181', 'INDIGO-POJ-0182', 'INDIGO-POJ-0183', 'INDIGO-POJ-0184',\n",
        "    'INDIGO-POJ-0188', 'INDIGO-POJ-0189', 'INDIGO-POJ-0190', 'INDIGO-POJ-0192', 'INDIGO-POJ-0193', 'INDIGO-POJ-0194',\n",
        "    'INDIGO-POJ-0195', 'INDIGO-POJ-0198', 'INDIGO-POJ-0199', 'INDIGO-POJ-0200', 'INDIGO-POJ-0201',\n",
        "]\n",
        "\n",
        "data = {}\n",
        "endpoint = 'project'\n",
        "\n",
        "for public_id in public_ids:\n",
        "    data[public_id] = api_get_item(endpoint, public_id)"
      ],
      "execution_count": null,
      "outputs": []
    },
    {
      "cell_type": "markdown",
      "metadata": {
        "id": "Dn02BnOsqiP9"
      },
      "source": [
        "## Generate plot data\n"
      ]
    },
    {
      "cell_type": "code",
      "metadata": {
        "id": "dA4YL206Kgkw"
      },
      "source": [
        "policy_sectors = {}\n",
        "\n",
        "for public_id in public_ids:\n",
        "    project_data = data[public_id]['project']['data']\n",
        "\n",
        "    purpose_and_classifications = project_data.get('purpose_and_classifications') or {}\n",
        "    policy_sector = purpose_and_classifications.get('policy_sector') or {}\n",
        "    value = policy_sector.get('value') or 'Unknown'\n",
        "    \n",
        "    if value in policy_sectors:\n",
        "        policy_sectors[value] += 1\n",
        "    else:\n",
        "        policy_sectors[value] = 1\n",
        "\n",
        "colours = [COLOUR_MAP_POLICY_SECTOR.get(label, '#00629b') for label in policy_sectors.keys()]\n",
        "\n",
        "print(policy_sectors)\n",
        "\n",
        "plot_data = [\n",
        "    go.Pie(\n",
        "        name='Policy Sectors',\n",
        "        labels=list(policy_sectors.keys()),\n",
        "        values=list(policy_sectors.values()),\n",
        "        marker_colors=colours,\n",
        "        **DEFAULT_PIE_CHART_CONFIG,\n",
        "    )\n",
        "]"
      ],
      "execution_count": null,
      "outputs": []
    },
    {
      "cell_type": "markdown",
      "metadata": {
        "id": "N-vtZyLn_8i8"
      },
      "source": [
        "## Build the figure"
      ]
    },
    {
      "cell_type": "code",
      "metadata": {
        "id": "j4ktlZiL_1LY"
      },
      "source": [
        "fig = go.Figure(data=plot_data)\n",
        "\n",
        "fig.update_layout(\n",
        "    height=600,\n",
        "    title='Policy sector example',\n",
        "    showlegend=True,\n",
        ")\n",
        "\n",
        "fig.show()"
      ],
      "execution_count": null,
      "outputs": []
    },
    {
      "cell_type": "markdown",
      "metadata": {
        "id": "gP95rG-GLG3P"
      },
      "source": [
        "## Important Notice and Disclaimer on INDIGO Data\n",
        "<sub><sup>\n",
        "INDIGO data are shared for research and policy analysis purposes. INDIGO data can be used to support a range of insights, for example, to understand the social outcomes that projects aim to improve, the network of organisations across projects, trends, scales, timelines and summary information. The collaborative system by which we collect, process, and share data is designed to advance data-sharing norms, harmonise data definitions and improve data use. These data are NOT shared for auditing, investment, or legal purposes. Please independently verify any data that you might use in decision making. We provide no guarantees or assurances as to the quality of these data. Data may be inaccurate, incomplete, inconsistent, and/or not current for various reasons: INDIGO is a collaborative and iterative initiative that mostly relies on projects all over the world volunteering to share their data. We have a system for processing information and try to attribute data to named sources, but we do not audit, cross-check, or verify all information provided to us. It takes time and resources to share data, which may not have been included in a project’s budget. Many of the projects are ongoing and timely updates may not be available. Different people may have different interpretations of data items and definitions. Even when data are high quality, interpretation or generalisation to different contexts may not be possible and/or requires additional information and/or expertise. Help us improve our data quality: email us at indigo@bsg.ox.ac.uk if you have data on new projects, changes or performance updates on current projects, clarifications or corrections on our data, and/or confidentiality or sensitivity notices. Please also give input via the INDIGO Data Definitions Improvement Tool and INDIGO Feedback Questionnaire.\n",
        "</sup></sub>\n"
      ]
    }
  ]
}