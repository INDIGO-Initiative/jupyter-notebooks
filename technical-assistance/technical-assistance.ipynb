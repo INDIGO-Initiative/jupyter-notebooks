{
  "nbformat": 4,
  "nbformat_minor": 0,
  "metadata": {
    "colab": {
      "name": "technical-assistance.ipynb",
      "provenance": [],
      "collapsed_sections": []
    },
    "kernelspec": {
      "name": "python3",
      "display_name": "Python 3"
    }
  },
  "cells": [
    {
      "cell_type": "markdown",
      "metadata": {
        "id": "H2W-Z6hruY_6"
      },
      "source": [
        "# Technical Assistance - INDIGO Social Investment / Fund Manager Prototypes\n",
        "The sample data used in this visualisation relate to four impact bonds in which BII is an investor: Cornwall Frequent Attenders, Street Impact Brighton, Pyramid Project and Skill Mill.\n",
        "\n",
        "This visualization represents the variety and quantity of technical assistance (TA) provided by the investor (BII) on each contract. \n"
      ]
    },
    {
      "cell_type": "markdown",
      "metadata": {
        "id": "EBAzdEvMdvMo"
      },
      "source": [
        "## INDIGO database API endpoint\n",
        "Setup INDIGO database API endpoint and helper methods for getting individual items from the API. This can be used with the `project`, `fund`, `organisation` and `assessment_resource` endpoints. Also, add method to simplify extracting values from the nested data dictionary."
      ]
    },
    {
      "cell_type": "code",
      "metadata": {
        "id": "28txYxh_YW30"
      },
      "source": [
        "import requests\n",
        "import textwrap\n",
        "\n",
        "import plotly.graph_objects as go\n",
        "\n",
        "\n",
        "INDIGO_DATABASE_API = 'https://golab-indigo-data-store.herokuapp.com/app/api1'\n",
        "\n",
        "\n",
        "def api_get_item(endpoint, public_id):\n",
        "    \"\"\"\n",
        "    Get individual item details from the API\n",
        "\n",
        "    E.g. \n",
        "    item = api_get_item('project', 'INDIGO-POJ-0158')\n",
        "    \"\"\"\n",
        "    try:\n",
        "        response = requests.get(f'{INDIGO_DATABASE_API}/{endpoint}/{public_id}')\n",
        "        item = response.json()\n",
        "        return item\n",
        "    except Exception as e:\n",
        "        print(f'\\nFailed to retrieve {endpoint} \"{public_id}\".\\nError: {e}')\n",
        "        return False\n",
        "\n",
        "\n",
        "def extract_value(data, keys, default):\n",
        "    \"\"\"\n",
        "    Safe method to get value from nested dictionary with default value fallback\n",
        "    \"\"\"\n",
        "    try:\n",
        "        result = data\n",
        "        for key in keys:\n",
        "            if result == default:\n",
        "                break\n",
        "            result = result.get(key) or default\n",
        "        return result\n",
        "\n",
        "    except Exception as e:\n",
        "        print(f'Error: {e}')\n",
        "        return default"
      ],
      "execution_count": null,
      "outputs": []
    },
    {
      "cell_type": "markdown",
      "metadata": {
        "id": "YfS5Z3qRxbpu"
      },
      "source": [
        "## Visualisation data\n",
        "This is the main method for generating the plot data. It is called for each project."
      ]
    },
    {
      "cell_type": "code",
      "metadata": {
        "id": "hs_N4cJqxSvI"
      },
      "source": [
        "def visualisation_data_social_investment_prototype_4(project_data):\n",
        "    data = {}\n",
        "    for technical_assistance_detail in extract_value(project_data, ['technical_assistance_details'], []):\n",
        "        category = extract_value(technical_assistance_detail, ['category', 'value'], '')\n",
        "        days = extract_value(technical_assistance_detail, ['number_of_days', 'value'], '0')\n",
        "        if category and int(days) > 0:\n",
        "            data[category] = int(days)\n",
        "    return {'data': data}"
      ],
      "execution_count": null,
      "outputs": []
    },
    {
      "cell_type": "markdown",
      "metadata": {
        "id": "WmV5HgsXnjhm"
      },
      "source": [
        "## Plot helper method\n",
        "Setup the helper method for adding defined colours to the bar plot."
      ]
    },
    {
      "cell_type": "code",
      "metadata": {
        "id": "xG5hO-P-mnCA"
      },
      "source": [
        "DEFAULT_BAR_CHART_COLOURS = [\n",
        "    '#2f4b7c',\n",
        "    '#00629b',\n",
        "    '#3c77ab',\n",
        "    '#665191',\n",
        "    '#a05195',\n",
        "    '#d45087',\n",
        "    '#f95d6a',\n",
        "    '#ff7c43',\n",
        "    '#ffa600',\n",
        "]\n",
        "\n",
        "def get_bar_colour(index):\n",
        "    return DEFAULT_BAR_CHART_COLOURS[index % len(DEFAULT_BAR_CHART_COLOURS)]"
      ],
      "execution_count": null,
      "outputs": []
    },
    {
      "cell_type": "markdown",
      "metadata": {
        "id": "2d0PaZ5bdLOp"
      },
      "source": [
        "## Get project data\n",
        "Now we actually call the INDIGO API 'project' endpoint and retrieve the data for each of the projects of interest."
      ]
    },
    {
      "cell_type": "code",
      "metadata": {
        "id": "KJWBuo4Cbj55"
      },
      "source": [
        "# Call the API and pull down the data for each project\n",
        "# and store in a dictionary for use later.\n",
        "public_ids = ['INDIGO-POJ-0158', 'INDIGO-POJ-0167', 'INDIGO-POJ-0194', 'INDIGO-POJ-0195']\n",
        "\n",
        "data = {}\n",
        "endpoint = 'project'\n",
        "\n",
        "for public_id in public_ids:\n",
        "    data[public_id] = api_get_item(endpoint, public_id)"
      ],
      "execution_count": null,
      "outputs": []
    },
    {
      "cell_type": "markdown",
      "metadata": {
        "id": "Dn02BnOsqiP9"
      },
      "source": [
        "## Generate plot data\n",
        "Pass each project to the `visualisation_data_social_investment_prototype_4` method and build a plot with the return values if they are valid."
      ]
    },
    {
      "cell_type": "code",
      "metadata": {
        "id": "HiGYqLbQewfw"
      },
      "source": [
        "# Calculate the prototype data for each\n",
        "plot_data = []\n",
        "\n",
        " # Get Raw data\n",
        "selected_ids = []\n",
        "categories = {}\n",
        "\n",
        "for public_id in public_ids:\n",
        "    project_data = data[public_id]['project']['data']\n",
        "    prototype = visualisation_data_social_investment_prototype_4(project_data)\n",
        "\n",
        "    # Print out the return prototype data structure. It is possible that not\n",
        "    # all projects have valid data available to plot.\n",
        "    print(public_id, prototype)\n",
        "\n",
        "    if not prototype or not prototype.get('data'):\n",
        "       continue\n",
        "\n",
        "    selected_ids.append(public_id)\n",
        "\n",
        "    for category, days in prototype.get('data').items():\n",
        "        if category not in categories:\n",
        "            categories[category] = {}\n",
        "        categories[category][public_id] = days\n",
        "\n",
        "# Add the bar plots\n",
        "if selected_ids:\n",
        "\n",
        "    # Sort the categories by the first project with biggest values first\n",
        "    sorted_category_titles = sorted(categories, key=lambda x: categories[x][selected_ids[0]], reverse=True)\n",
        "\n",
        "    for index, category in enumerate(sorted_category_titles):\n",
        "        category_data = categories[category]\n",
        "\n",
        "        y_data = []\n",
        "\n",
        "        for public_id in selected_ids:\n",
        "            y_data.append(category_data.get(public_id, 0))\n",
        "\n",
        "        plot_data.append(\n",
        "            go.Bar(\n",
        "                name='<br>'.join(textwrap.wrap(category, 40)),\n",
        "                x=selected_ids,\n",
        "                y=y_data,\n",
        "                marker=go.bar.Marker(\n",
        "                    color=get_bar_colour(index),\n",
        "                    line={\n",
        "                        'color': 'white',\n",
        "                        'width': 2,\n",
        "                    },\n",
        "                ),\n",
        "            )\n",
        "        )\n",
        "\n",
        "else:\n",
        "    print('Technical assistance data is not available')\n",
        "    "
      ],
      "execution_count": null,
      "outputs": []
    },
    {
      "cell_type": "markdown",
      "metadata": {
        "id": "N-vtZyLn_8i8"
      },
      "source": [
        "## Build the figure"
      ]
    },
    {
      "cell_type": "code",
      "metadata": {
        "id": "j4ktlZiL_1LY"
      },
      "source": [
        "fig = go.Figure(data=plot_data)\n",
        "\n",
        "fig.update_traces(\n",
        "    hovertemplate='%{y} days',\n",
        ")\n",
        "\n",
        "fig.update_layout(\n",
        "    barmode='stack',\n",
        "    height=800,\n",
        "    title='Technical assistance',\n",
        "    title_x=0.5,\n",
        "    xaxis_title=\"Projects\",\n",
        "    yaxis_title=\"Days\",\n",
        "    showlegend=True,\n",
        ")\n",
        "\n",
        "fig.show()"
      ],
      "execution_count": null,
      "outputs": []
    },
    {
      "cell_type": "markdown",
      "metadata": {
        "id": "vIllgNuHvt35"
      },
      "source": [
        "This visualization represents the variety and quantity of technical assistance (TA) provided by the investor (BII) on each contract. This is how BII has chosen to depict their provision of TA, and demonstrates the TA provided by BII for one specific project. This does not relate to all social investors in terms of levels of provision of TA, or ways of describing TA. In this version, this is showing TA provided at the pre-contract phase only. \n",
        "\n",
        "Each project will be a vertical bar on the x-axis. (In the current version, there is only one project, so only one bar.) The y-axis shows the number of days that the social investor spent providing TA to either the provider or commissioner. The data come from the \"Technical Assistance Details\" tab.  \n",
        "\n",
        "In this version of the visualization, we show the different types of technical assistance provided by the investor for the Pyramid Project (INDIGO-POJ-0194). Different colors are used to represent the different types of TA provided (from the same list of TA types in `investment-tech-assist-timelines`). \n",
        "\n",
        "This shows that the majority (19 days) of the technical assistance was spent on \"Revenue Strategy – Business Planning\". Some examples of these types of TA are: practical support with fundraising, developing the impact strategy and theory of change, and business model development. The full list of TA categories developed by BII and the GO Lab is in the INDIGO Data Dictionary."
      ]
    },
    {
      "cell_type": "markdown",
      "metadata": {
        "id": "gP95rG-GLG3P"
      },
      "source": [
        "## Important Notice and Disclaimer on INDIGO Data\n",
        "<sub><sup>\n",
        "INDIGO data are shared for research and policy analysis purposes. INDIGO data can be used to support a range of insights, for example, to understand the social outcomes that projects aim to improve, the network of organisations across projects, trends, scales, timelines and summary information. The collaborative system by which we collect, process, and share data is designed to advance data-sharing norms, harmonise data definitions and improve data use. These data are NOT shared for auditing, investment, or legal purposes. Please independently verify any data that you might use in decision making. We provide no guarantees or assurances as to the quality of these data. Data may be inaccurate, incomplete, inconsistent, and/or not current for various reasons: INDIGO is a collaborative and iterative initiative that mostly relies on projects all over the world volunteering to share their data. We have a system for processing information and try to attribute data to named sources, but we do not audit, cross-check, or verify all information provided to us. It takes time and resources to share data, which may not have been included in a project’s budget. Many of the projects are ongoing and timely updates may not be available. Different people may have different interpretations of data items and definitions. Even when data are high quality, interpretation or generalisation to different contexts may not be possible and/or requires additional information and/or expertise. Help us improve our data quality: email us at indigo@bsg.ox.ac.uk if you have data on new projects, changes or performance updates on current projects, clarifications or corrections on our data, and/or confidentiality or sensitivity notices. Please also give input via the INDIGO Data Definitions Improvement Tool and INDIGO Feedback Questionnaire.\n",
        "</sup></sub>\n"
      ]
    }
  ]
}