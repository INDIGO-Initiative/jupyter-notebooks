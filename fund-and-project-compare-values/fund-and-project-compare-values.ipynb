{
  "nbformat": 4,
  "nbformat_minor": 0,
  "metadata": {
    "colab": {
      "name": "Fund -  fund value next to project max outcome payments - stacked Barchart.ipynb",
      "provenance": [],
      "collapsed_sections": [],
      "toc_visible": true
    },
    "kernelspec": {
      "name": "python3",
      "display_name": "Python 3"
    },
    "language_info": {
      "name": "python"
    }
  },
  "cells": [
    {
      "cell_type": "markdown",
      "metadata": {
        "id": "Dj6w13uagPpr"
      },
      "source": [
        "# Fund -  fund value next to project max outcome payments"
      ]
    },
    {
      "cell_type": "markdown",
      "metadata": {
        "id": "zVI6cSrI5C0K"
      },
      "source": [
        "## Libs and setup\n"
      ]
    },
    {
      "cell_type": "code",
      "metadata": {
        "id": "UQQ1i6fd5EgN"
      },
      "source": [
        "!pip install --upgrade plotly\n",
        "!pip install kaleido"
      ],
      "execution_count": null,
      "outputs": []
    },
    {
      "cell_type": "code",
      "metadata": {
        "id": "5PggR_OFgjVZ"
      },
      "source": [
        "import requests\n",
        "import plotly.graph_objects as go\n",
        "\n",
        "\n",
        "\n",
        "INDIGO_DATABASE_API = 'https://golab-indigo-data-store.herokuapp.com/app/api1'\n",
        "\n",
        "\n",
        "def api_get_item(endpoint, public_id=None):\n",
        "    \"\"\"\n",
        "    Get individual item details from the API\n",
        "\n",
        "    E.g. \n",
        "    item = api_get_item('project', 'INDIGO-POJ-0158')\n",
        "    \"\"\"\n",
        "    try:\n",
        "        if public_id:\n",
        "            response = requests.get(f'{INDIGO_DATABASE_API}/{endpoint}/{public_id}')\n",
        "        else:\n",
        "            response = requests.get(f'{INDIGO_DATABASE_API}/{endpoint}')\n",
        "        item = response.json()\n",
        "        return item\n",
        "    except Exception as e:\n",
        "        print(f'\\nFailed to retrieve {endpoint} \"{public_id}\".\\nError: {e}')\n",
        "        return False\n",
        "\n",
        "\n",
        "def viz_for_fund(fund_id, fund_project_list, fund_data, filename=None, yaxis_range=None):\n",
        "    data = []\n",
        "    viz_currencies = set()\n",
        "    for project_id in fund_project_list:\n",
        "        project_amount = project_maximum_potential_outcome_payments.get(project_id,{}).get('amount')\n",
        "        project_amount = float(project_amount) if project_amount else 0\n",
        "        project_currency = project_maximum_potential_outcome_payments.get(project_id,{}).get('currency')\n",
        "        if project_amount and project_currency:\n",
        "            data.append(go.Bar(name=project_id, x=['Projects'], y=[project_amount]))\n",
        "            viz_currencies.add(project_currency)\n",
        "    fund_value_data = fund_data.get('dimensions_of_scale', {}).get('total_outcome_fund_value_outcomes_funding',{})\n",
        "    fund_value_amounts = [\n",
        "        fund_value_data.get('actual',{}).get('amount',{}).get('value',{}),    \n",
        "        fund_value_data.get('aspiration',{}).get('amount',{}).get('value',{}),              \n",
        "    ]\n",
        "    fund_value_amounts = [i for i in fund_value_amounts if i]\n",
        "\n",
        "    if fund_value_amounts:\n",
        "        viz_currencies.add(fund_value_data.get('currency',{}).get('value',{}))\n",
        "        data.append(go.Bar(name=fund_id, x=['Fund'], y=[fund_value_amounts[0]]))\n",
        "    if data:\n",
        "        if len(viz_currencies) > 1:\n",
        "            print(\"Can not draw as mix of currencies\")\n",
        "            print(viz_currencies)\n",
        "        else:\n",
        "            fig = go.Figure(data=data)\n",
        "            fig.update_layout(barmode='stack', yaxis_range=yaxis_range, yaxis_title=list(viz_currencies)[0])\n",
        "            fig.show()\n",
        "            if filename:\n",
        "                fig.write_image(filename)\n",
        "\n",
        "def vis_for_all_funds_in_local_currency(fund_ids, local_currency, filename=None, width=1000, height=1000):\n",
        "    data_x = []\n",
        "    data_y = []\n",
        "    for fund_id in fund_ids:\n",
        "        fund_value_data = fund_data[fund_id].get('dimensions_of_scale', {}).get('total_outcome_fund_value_outcomes_funding',{})\n",
        "        fund_value_amounts = [\n",
        "            fund_value_data.get('actual',{}).get('amount',{}).get('value',{}),    \n",
        "            fund_value_data.get('aspiration',{}).get('amount',{}).get('value',{}),              \n",
        "        ]\n",
        "        fund_value_amounts = [i for i in fund_value_amounts if i]\n",
        "        fund_currency = fund_value_data.get('currency',{}).get('value',{})\n",
        "        fund_name = fund_data[fund_id].get('name', {}).get('value')\n",
        "        if fund_value_amounts and fund_currency == local_currency:\n",
        "            data_x.append(fund_id+\": \"+ fund_name)\n",
        "            data_y.append(fund_value_amounts[0])\n",
        "    if data_x:\n",
        "            fig = go.Figure(data=[go.Bar(name=\"Total Outcome Fund value\", x=data_x, y=data_y)])\n",
        "            fig.update_layout(yaxis_title=local_currency, width=width, height=height)\n",
        "            fig.show()\n",
        "            if filename:\n",
        "                fig.write_image(filename)\n",
        "\n",
        "\n",
        "def vis_for_all_funds_in_usd(fund_ids, filename=None, width=1000, height=1000):\n",
        "    data_x = []\n",
        "    data_y = []\n",
        "    for fund_id in fund_ids:\n",
        "        fund_value_data = fund_data[fund_id].get('dimensions_of_scale', {}).get('total_outcome_fund_value_outcomes_funding',{})\n",
        "        fund_value_amounts = [\n",
        "            fund_value_data.get('actual',{}).get('amount_usd',{}).get('value',{}),    \n",
        "            fund_value_data.get('aspiration',{}).get('amount_usd',{}).get('value',{}),              \n",
        "        ]\n",
        "        fund_value_amounts = [i for i in fund_value_amounts if i]\n",
        "        fund_name = fund_data[fund_id].get('name', {}).get('value')\n",
        "        if fund_value_amounts:\n",
        "            data_x.append(fund_id+\": \"+ fund_name)\n",
        "            data_y.append(fund_value_amounts[0])\n",
        "    if data_x:\n",
        "            fig = go.Figure(data=[go.Bar(name=\"Total Outcome Fund value\", x=data_x, y=data_y)])\n",
        "            fig.update_layout(yaxis_title='USD', width=width, height=height)\n",
        "            fig.show()\n",
        "            if filename:\n",
        "                fig.write_image(filename)\n",
        "\n"
      ],
      "execution_count": null,
      "outputs": []
    },
    {
      "cell_type": "markdown",
      "metadata": {
        "id": "r8igs_oc6IHP"
      },
      "source": [
        "## Get Fund data\n",
        "Call the INDIGO API 'fund' endpoint and retrieve the data used for the plot.\n",
        "\n",
        "By default this will get data for all the funds, but you can pass a list of fund ID's and get only some. See the comments in the code."
      ]
    },
    {
      "cell_type": "code",
      "metadata": {
        "id": "zrtR_Ip-RX0P"
      },
      "source": [
        "# Call the API and pull down the data for each fund\n",
        "# and store in a fund for use later.\n",
        "# \n",
        "# You can set public_ids to some funds only\n",
        "# eg:\n",
        "# public_ids = ['INDIGO-FUND-0001', ]\n",
        "# or pass an empty list, in which case it will get data from all funds\n",
        "# eg:\n",
        "# public_ids = []\n",
        "\n",
        "public_ids = []\n",
        "endpoint = 'fund'\n",
        "\n",
        "if not public_ids:\n",
        "    for fund_data in api_get_item(endpoint).get('funds'):\n",
        "        if fund_data.get('public'):\n",
        "            public_ids.append(fund_data.get('id'))\n",
        "\n",
        "fund_data = {}\n",
        "\n",
        "for fund_id in public_ids:\n",
        "    print(\"Getting Fund \" + fund_id)\n",
        "    fund_data[fund_id] = api_get_item(endpoint, fund_id).get('fund',{}).get('data',{})"
      ],
      "execution_count": null,
      "outputs": []
    },
    {
      "cell_type": "markdown",
      "metadata": {
        "id": "MwmhtRfZg8yy"
      },
      "source": [
        "## Get Project Data"
      ]
    },
    {
      "cell_type": "code",
      "metadata": {
        "id": "IO9vMxxKg-Bz"
      },
      "source": [
        "!wget https://golab-indigo-data-store.herokuapp.com/app/all_public_data_file_per_data_type_csv.zip\n",
        "!unzip -o all_public_data_file_per_data_type_csv.zip"
      ],
      "execution_count": null,
      "outputs": []
    },
    {
      "cell_type": "code",
      "metadata": {
        "id": "-u4rDCUahMwh"
      },
      "source": [
        "import csv\n",
        "from collections import defaultdict\n",
        "\n",
        "# Get a list of which funds have which projects\n",
        "fund_has_projects = defaultdict(list)\n",
        "with open('projects_outcome_funds.csv', newline='') as csvfile:\n",
        "     outcomefundreader = csv.DictReader(csvfile)\n",
        "     for row in outcomefundreader:\n",
        "         fund_has_projects[row['Id']].append(row['Project ID'])\n",
        "\n",
        "# Get a list of Project Funding Data\n",
        "project_maximum_potential_outcome_payments =  {}\n",
        "with open('projects.csv', newline='') as csvfile:\n",
        "     outcomefundreader = csv.DictReader(csvfile)\n",
        "     for row in outcomefundreader:\n",
        "         project_maximum_potential_outcome_payments[row['ID']] = {\n",
        "             'amount': row['Overall project finance - Maximum potential outcome payment - Amount - (Value)'],\n",
        "             'amount_usd': row['Overall project finance - Maximum potential outcome payment - Amount USD - (Value)'],\n",
        "             'currency': row['Overall project finance - Maximum potential outcome payment - Currency - (Value)'],\n",
        "         }\n"
      ],
      "execution_count": null,
      "outputs": []
    },
    {
      "cell_type": "markdown",
      "metadata": {
        "id": "lbjZ9bTtmBNl"
      },
      "source": [
        "## For every fund, an individual graph (Y axis varies)"
      ]
    },
    {
      "cell_type": "code",
      "metadata": {
        "id": "lj99HUk6mFEK"
      },
      "source": [
        "for fund_id, fund_project_list in fund_has_projects.items():\n",
        "    print(\"Fund \" + fund_id)\n",
        "    viz_for_fund(fund_id, fund_project_list, fund_data[fund_id], filename='fund-'+fund_id+'-varies.png')\n"
      ],
      "execution_count": null,
      "outputs": []
    },
    {
      "cell_type": "markdown",
      "metadata": {
        "id": "RRBqHrLKqp24"
      },
      "source": [
        "## For every fund, an individual graph (Y axis fixed)"
      ]
    },
    {
      "cell_type": "code",
      "metadata": {
        "id": "TlgZEmyXqr1a"
      },
      "source": [
        "for fund_id, fund_project_list in fund_has_projects.items():\n",
        "    print(\"Fund \" + fund_id)\n",
        "    viz_for_fund(fund_id, fund_project_list, fund_data[fund_id], filename='fund-'+fund_id+'-fixed.png', yaxis_range=[0,150000000])\n"
      ],
      "execution_count": null,
      "outputs": []
    },
    {
      "cell_type": "markdown",
      "metadata": {
        "id": "Sc50IseSfb3v"
      },
      "source": [
        "## For all funds, vis"
      ]
    },
    {
      "cell_type": "code",
      "metadata": {
        "id": "tTvvblxHff_4"
      },
      "source": [
        "vis_for_all_funds_in_local_currency(fund_data.keys(), 'GBP',filename='all-funds-gbp.png')\n",
        "vis_for_all_funds_in_usd(fund_data.keys(),filename='all-funds-usd.png')"
      ],
      "execution_count": null,
      "outputs": []
    }
  ]
}
