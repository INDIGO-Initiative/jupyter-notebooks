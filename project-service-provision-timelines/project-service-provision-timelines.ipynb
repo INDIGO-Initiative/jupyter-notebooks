{
  "nbformat": 4,
  "nbformat_minor": 0,
  "metadata": {
    "colab": {
      "name": "project-service-provision-timelines.ipynb",
      "provenance": [],
      "collapsed_sections": []
    },
    "kernelspec": {
      "display_name": "Python 3",
      "name": "python3"
    }
  },
  "cells": [
    {
      "cell_type": "markdown",
      "metadata": {
        "id": "H2W-Z6hruY_6"
      },
      "source": [
        "# Project and service provision timelines\n",
        "Upgrade plotly as we require the timelines method from plotly express."
      ]
    },
    {
      "cell_type": "code",
      "metadata": {
        "id": "iK6TV_nw12i2"
      },
      "source": [
        "%pip install plotly>=4.14.3"
      ],
      "execution_count": null,
      "outputs": []
    },
    {
      "cell_type": "markdown",
      "metadata": {
        "id": "EBAzdEvMdvMo"
      },
      "source": [
        "## INDIGO database API endpoint\n",
        "Setup INDIGO database API endpoint and helper methods for getting individual items from the API. This can be used with the `project`, `fund`, `organisation` and `assessment_resource` endpoints."
      ]
    },
    {
      "cell_type": "code",
      "metadata": {
        "id": "28txYxh_YW30"
      },
      "source": [
        "import requests\n",
        "import textwrap\n",
        "\n",
        "from datetime import datetime\n",
        "\n",
        "import pandas as pd\n",
        "import plotly.express as px\n",
        "\n",
        "\n",
        "INDIGO_DATABASE_API = 'https://golab-indigo-data-store.herokuapp.com/app/api1'\n",
        "\n",
        "\n",
        "def api_get_item(endpoint, public_id):\n",
        "    \"\"\"\n",
        "    Get individual item details from the API\n",
        "\n",
        "    E.g. \n",
        "    item = api_get_item('project', 'INDIGO-POJ-0158')\n",
        "    \"\"\"\n",
        "    try:\n",
        "        response = requests.get(f'{INDIGO_DATABASE_API}/{endpoint}/{public_id}')\n",
        "        item = response.json()\n",
        "        return item\n",
        "    except Exception as e:\n",
        "        print(f'\\nFailed to retrieve {endpoint} \"{public_id}\".\\nError: {e}')\n",
        "        return False"
      ],
      "execution_count": null,
      "outputs": []
    },
    {
      "cell_type": "markdown",
      "metadata": {
        "id": "Fs1jCVQ0rqQ0"
      },
      "source": [
        "\n",
        "## Helper methods\n",
        "Setup a method to simplify extracting values from the nested data dictionary. We also setup various helper methods for generating plot data for the visualisation. Most of these methods deal with calculating start/end dates."
      ]
    },
    {
      "cell_type": "code",
      "metadata": {
        "id": "JVdg2F3lgGK6"
      },
      "source": [
        "ACCEPTED_DATE_FORMATS = ['%Y-%m-%d', '%Y-%m', '%Y']\n",
        "\n",
        "\n",
        "def extract_value(data, keys, default):\n",
        "    \"\"\"\n",
        "    Safe method to get value from nested dictionary with default value fallback\n",
        "    \"\"\"\n",
        "    try:\n",
        "        result = data\n",
        "        for key in keys:\n",
        "            if result == default:\n",
        "                break\n",
        "            result = result.get(key) or default\n",
        "        return result\n",
        "\n",
        "    except Exception as e:\n",
        "        print(f'Error: {e}')\n",
        "        return default\n",
        "\n",
        "\n",
        "def _convert_date_string_to_timestamp(time_string):\n",
        "    for format in ACCEPTED_DATE_FORMATS:\n",
        "        try:\n",
        "            return datetime.strptime(time_string, format).timestamp()\n",
        "        except ValueError:\n",
        "            pass\n",
        "\n",
        "\n",
        "def _get_project_provision_start_end_dates(project_data):\n",
        "\n",
        "    project_start = extract_value(project_data, ['dates', 'outcomes_contract_signed', 'value'], '')\n",
        "    if isinstance(project_start, str) and project_start.strip():\n",
        "        project_start = project_start.strip()[0:7]\n",
        "        project_start_unix = _convert_date_string_to_timestamp(project_start)\n",
        "    else:\n",
        "        project_start_unix = None\n",
        "\n",
        "    provision_start = extract_value(project_data, ['dates', 'start_date_of_service_provision', 'value'], '')\n",
        "    if isinstance(provision_start, str) and provision_start.strip():\n",
        "        provision_start = provision_start.strip()[0:7]\n",
        "        provision_start_unix = _convert_date_string_to_timestamp(provision_start)\n",
        "    else:\n",
        "        provision_start_unix = None\n",
        "\n",
        "    fields_project_end = [\n",
        "        ['dates', 'actual_completion_date', 'value'],\n",
        "        ['dates', 'anticipated_completion_date', 'value'],\n",
        "    ]\n",
        "\n",
        "    project_end_unix = None\n",
        "    for field in fields_project_end:\n",
        "        project_end = extract_value(project_data, field, '')\n",
        "        if isinstance(project_end, str) and project_end.strip():\n",
        "            project_end = project_end.strip()[0:7]\n",
        "            project_end_unix = _convert_date_string_to_timestamp(project_end)\n",
        "            break\n",
        "\n",
        "    fields_provision_end = [\n",
        "        ['dates', 'actual_end_date_of_service_provision', 'value'],\n",
        "        ['dates', 'anticipated_end_date_of_service_provision', 'value'],\n",
        "    ]\n",
        "\n",
        "    provision_end_unix = None\n",
        "    for field in fields_provision_end:\n",
        "        provision_end = extract_value(project_data, field, '')\n",
        "        if isinstance(provision_end, str) and provision_end.strip():\n",
        "            provision_end = provision_end.strip()[0:7]\n",
        "            provision_end_unix = _convert_date_string_to_timestamp(provision_end)\n",
        "            break\n",
        "\n",
        "    return project_start_unix, project_end_unix, provision_start_unix, provision_end_unix"
      ],
      "execution_count": null,
      "outputs": []
    },
    {
      "cell_type": "markdown",
      "metadata": {
        "id": "WmV5HgsXnjhm"
      },
      "source": [
        "## Plot helper methods\n"
      ]
    },
    {
      "cell_type": "code",
      "metadata": {
        "id": "xG5hO-P-mnCA"
      },
      "source": [
        "def _xaxis_formatting(subplot):\n",
        "    return {\n",
        "        f'xaxis{subplot}': {\n",
        "            'showgrid': True,\n",
        "            'gridcolor': LINE_COLOUR,\n",
        "            'showline': True,\n",
        "            'linewidth': 3,\n",
        "            'linecolor': LINE_COLOUR,\n",
        "            'mirror': True,\n",
        "        }\n",
        "    }\n",
        "\n",
        "\n",
        "def _yaxis_formatting(subplot):\n",
        "    return {\n",
        "        f'yaxis{subplot}': {\n",
        "            'showgrid': True,\n",
        "            'gridcolor': LINE_COLOUR,\n",
        "            'showline': True,\n",
        "            'ticksuffix': '  ',\n",
        "            'linewidth': 1,\n",
        "            'linecolor': LINE_COLOUR,\n",
        "            'mirror': True,\n",
        "        }\n",
        "    }\n",
        "\n",
        "\n",
        "def _build_timeline_dataframe(public_ids, data):\n",
        "    df = pd.DataFrame(columns=['Project', 'Start', 'Finish', 'Type', 'Policy Sector'])\n",
        "\n",
        "    for public_id in public_ids:\n",
        "        try:\n",
        "            project_data = data[public_id]['project']['data']\n",
        "            project_title = project_data['name']['value']\n",
        "\n",
        "            project_start, project_end, provision_start, provision_end = _get_project_provision_start_end_dates(project_data)\n",
        "\n",
        "            if project_end is not None and project_start is not None and provision_start is not None and provision_end is not None:\n",
        "                project_start_date = datetime.utcfromtimestamp(project_start).strftime('%Y-%m-%d')\n",
        "                project_end_date = datetime.utcfromtimestamp(project_end).strftime('%Y-%m-%d')\n",
        "                provision_start_date = datetime.utcfromtimestamp(provision_start).strftime('%Y-%m-%d')\n",
        "                provision_end_date = datetime.utcfromtimestamp(provision_end).strftime('%Y-%m-%d')\n",
        "                \n",
        "                policy_sector = extract_value(\n",
        "                    project_data,\n",
        "                    ['purpose_and_classifications', 'policy_sector', 'value'],\n",
        "                    'Unknown',\n",
        "                )\n",
        "                \n",
        "                df = df.append(\n",
        "                    {\n",
        "                        'Project': '  <br>'.join(textwrap.wrap(project_title, 40)),\n",
        "                        'Type': 'Project',\n",
        "                        'Start': project_start_date,\n",
        "                        'Finish': project_end_date,\n",
        "                        'Policy Sector': policy_sector\n",
        "                    },\n",
        "                    ignore_index=True,\n",
        "                )\n",
        "                \n",
        "                df = df.append(\n",
        "                    {\n",
        "                        'Project': '  <br>'.join(textwrap.wrap(project_title, 40)),\n",
        "                        'Type': 'Service Provision',\n",
        "                        'Start': provision_start_date,\n",
        "                        'Finish': provision_end_date,\n",
        "                        'Policy Sector': policy_sector\n",
        "                    },\n",
        "                    ignore_index=True,\n",
        "                )\n",
        "\n",
        "        except Exception:\n",
        "            continue\n",
        "\n",
        "    return df\n",
        "\n",
        "\n",
        "def _calculate_extents(figure_data):\n",
        "    new_extents = {}\n",
        "    total_projects = sum([len(shape.y) for shape in figure_data if shape.name == 'Service Provision'])\n",
        "    for shape in figure_data:\n",
        "        if shape.name == 'Service Provision':\n",
        "            yaxis_ref = '' if len(shape.yaxis) == 1 else ''.join([i for i in shape.yaxis if i.isdigit()])\n",
        "            facet_projects = len(shape.y)\n",
        "            proportional_extent = (1 / (total_projects / facet_projects))\n",
        "            if yaxis_ref != '':\n",
        "                proportional_extent = proportional_extent - PLOTLY_FACET_SPACING\n",
        "            new_extents[f'yaxis{yaxis_ref}'] = [0, proportional_extent]\n",
        "\n",
        "    return new_extents"
      ],
      "execution_count": null,
      "outputs": []
    },
    {
      "cell_type": "markdown",
      "metadata": {
        "id": "2d0PaZ5bdLOp"
      },
      "source": [
        "## Get project data\n",
        "Call the INDIGO API 'project' endpoint and retrieve the data for each of the projects of interest."
      ]
    },
    {
      "cell_type": "code",
      "metadata": {
        "id": "KJWBuo4Cbj55"
      },
      "source": [
        "# Call the API and pull down the data for each project\n",
        "# and store in a dictionary for use later.\n",
        "public_ids = [\n",
        "    'INDIGO-POJ-0167', 'INDIGO-POJ-0168', 'INDIGO-POJ-0169', 'INDIGO-POJ-0170', 'INDIGO-POJ-0171', 'INDIGO-POJ-0172',\n",
        "    'INDIGO-POJ-0173', 'INDIGO-POJ-0174', 'INDIGO-POJ-0175', 'INDIGO-POJ-0176', 'INDIGO-POJ-0177', 'INDIGO-POJ-0178',\n",
        "    'INDIGO-POJ-0179', 'INDIGO-POJ-0180', 'INDIGO-POJ-0181', 'INDIGO-POJ-0182', 'INDIGO-POJ-0183', 'INDIGO-POJ-0184',\n",
        "    'INDIGO-POJ-0188', 'INDIGO-POJ-0189', 'INDIGO-POJ-0190', 'INDIGO-POJ-0192', 'INDIGO-POJ-0193', 'INDIGO-POJ-0194',\n",
        "    'INDIGO-POJ-0195', 'INDIGO-POJ-0198', 'INDIGO-POJ-0199', 'INDIGO-POJ-0200', 'INDIGO-POJ-0201',\n",
        "]\n",
        "\n",
        "data = {}\n",
        "endpoint = 'project'\n",
        "\n",
        "for public_id in public_ids:\n",
        "    data[public_id] = api_get_item(endpoint, public_id)"
      ],
      "execution_count": null,
      "outputs": []
    },
    {
      "cell_type": "markdown",
      "metadata": {
        "id": "N-vtZyLn_8i8"
      },
      "source": [
        "## Build the figure\n",
        "Generate the plot data and build the figure"
      ]
    },
    {
      "cell_type": "code",
      "metadata": {
        "id": "j4ktlZiL_1LY"
      },
      "source": [
        "PLOTLY_FACET_SPACING = 0.03\n",
        "LINE_COLOUR = '#cccccc'\n",
        "\n",
        "df = _build_timeline_dataframe(public_ids, data)\n",
        "df_sorted = df.sort_values(by='Start')\n",
        "\n",
        "fig = px.timeline(\n",
        "    df_sorted, \n",
        "    x_start='Start', \n",
        "    x_end='Finish', \n",
        "    y='Project', \n",
        "    color='Type',\n",
        "    facet_row='Policy Sector', \n",
        "    color_discrete_map={'Project': '#00629b', 'Service Provision': '#d45087'},\n",
        ")\n",
        "\n",
        "fig.update_yaxes(autorange='reversed', automargin=True, dtick=1, title='', matches=None)\n",
        "fig.update_xaxes(tickangle=45)\n",
        "\n",
        "legend_y = (-3 / df.shape[0])\n",
        "if legend_y < -2:\n",
        "    legend_y = -2\n",
        "\n",
        "fig.layout.update(height=(32 * df.shape[0]) + 220, legend_y=legend_y)\n",
        "fig.update_traces(textposition='inside', width=0.25, selector=dict(type='bar'))\n",
        "\n",
        "for shape in fig['data']:\n",
        "    shape['offset'] = -0.25 if shape['legendgroup'] == 'Project' else 0\n",
        "\n",
        "new_extents = _calculate_extents(fig.data)\n",
        "\n",
        "new_domains = {}\n",
        "previous_extent = 0\n",
        "for i in range(len(new_extents)):\n",
        "    n = '' if i == 0 else (i + 1)\n",
        "    \n",
        "    new_domains[f'yaxis{n}'] = {'domain': [previous_extent, previous_extent + new_extents[f'yaxis{n}'][1]]}\n",
        "    previous_extent = (previous_extent + new_extents[f'yaxis{n}'][1]) + PLOTLY_FACET_SPACING\n",
        "\n",
        "fig.layout.update(new_domains)\n",
        "\n",
        "for i, annotation in enumerate(fig.layout.annotations):\n",
        "    n = '' if i == 0 else (i + 1)\n",
        "    \n",
        "    yaxis_position = fig.layout[f'yaxis{n}']['domain'][1]\n",
        "    annotation['textangle'] = 0\n",
        "    annotation['font'] = {'size': 14}\n",
        "    annotation['xanchor'] = 'center'\n",
        "    annotation['yanchor'] = 'top'\n",
        "    annotation['x'] = 0.5\n",
        "    annotation['y'] = (yaxis_position) + 0.015\n",
        "    fig.layout.update(_xaxis_formatting(n))\n",
        "    fig.layout.update(_yaxis_formatting(n))\n",
        "\n",
        "fig.update_layout(\n",
        "    title='Project and service provision timelines',\n",
        "    showlegend=True,\n",
        "    legend_orientation='h',\n",
        "    legend_yanchor='bottom',\n",
        ")\n",
        "\n",
        "fig.show()"
      ],
      "execution_count": null,
      "outputs": []
    },
    {
      "cell_type": "markdown",
      "metadata": {
        "id": "gP95rG-GLG3P"
      },
      "source": [
        "## Important Notice and Disclaimer on INDIGO Data\n",
        "<sub><sup>\n",
        "INDIGO data are shared for research and policy analysis purposes. INDIGO data can be used to support a range of insights, for example, to understand the social outcomes that projects aim to improve, the network of organisations across projects, trends, scales, timelines and summary information. The collaborative system by which we collect, process, and share data is designed to advance data-sharing norms, harmonise data definitions and improve data use. These data are NOT shared for auditing, investment, or legal purposes. Please independently verify any data that you might use in decision making. We provide no guarantees or assurances as to the quality of these data. Data may be inaccurate, incomplete, inconsistent, and/or not current for various reasons: INDIGO is a collaborative and iterative initiative that mostly relies on projects all over the world volunteering to share their data. We have a system for processing information and try to attribute data to named sources, but we do not audit, cross-check, or verify all information provided to us. It takes time and resources to share data, which may not have been included in a project’s budget. Many of the projects are ongoing and timely updates may not be available. Different people may have different interpretations of data items and definitions. Even when data are high quality, interpretation or generalisation to different contexts may not be possible and/or requires additional information and/or expertise. Help us improve our data quality: email us at indigo@bsg.ox.ac.uk if you have data on new projects, changes or performance updates on current projects, clarifications or corrections on our data, and/or confidentiality or sensitivity notices. Please also give input via the INDIGO Data Definitions Improvement Tool and INDIGO Feedback Questionnaire.\n",
        "</sup></sub>\n"
      ]
    }
  ]
}