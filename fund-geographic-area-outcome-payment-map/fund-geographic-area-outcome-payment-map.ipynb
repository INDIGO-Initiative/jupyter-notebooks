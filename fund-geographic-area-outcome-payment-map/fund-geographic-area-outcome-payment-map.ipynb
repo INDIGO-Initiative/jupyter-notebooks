{
  "nbformat": 4,
  "nbformat_minor": 0,
  "metadata": {
    "colab": {
      "name": "fund-geographic-area-outcome-payment-map.ipynb",
      "provenance": [],
      "collapsed_sections": []
    },
    "kernelspec": {
      "name": "python3",
      "display_name": "Python 3"
    }
  },
  "cells": [
    {
      "cell_type": "markdown",
      "metadata": {
        "id": "xGi2yg1I-mQj"
      },
      "source": [
        "# INDIGO fund geographic area for outcome payment\n"
      ]
    },
    {
      "cell_type": "markdown",
      "metadata": {
        "id": "gxRGXqWd_SE8"
      },
      "source": [
        "## INDIGO database API endpoint\n",
        "Setup INDIGO database API endpoint and helper method for getting individual items from the API. This can be used with the project, fund, organisation and assessment_resource endpoints."
      ]
    },
    {
      "cell_type": "code",
      "metadata": {
        "id": "545dCtcs_Vaf"
      },
      "source": [
        "!pip install pycountry\n",
        "\n",
        "import requests\n",
        "import pycountry\n",
        "\n",
        "import numpy as np\n",
        "\n",
        "import plotly.graph_objects as go\n",
        "\n",
        "\n",
        "INDIGO_DATABASE_API = 'https://golab-indigo-data-store.herokuapp.com/app/api1'\n",
        "\n",
        "\n",
        "def api_get_item(endpoint, public_id=None):\n",
        "    \"\"\"\n",
        "    Get individual item details from the API\n",
        "\n",
        "    E.g. \n",
        "    item = api_get_item('project', 'INDIGO-POJ-0158')\n",
        "    \"\"\"\n",
        "    try:\n",
        "        if public_id:\n",
        "            response = requests.get(f'{INDIGO_DATABASE_API}/{endpoint}/{public_id}')\n",
        "        else:\n",
        "            response = requests.get(f'{INDIGO_DATABASE_API}/{endpoint}')\n",
        "        item = response.json()\n",
        "        return item\n",
        "    except Exception as e:\n",
        "        print(f'\\nFailed to retrieve {endpoint} \"{public_id}\".\\nError: {e}')\n",
        "        return False"
      ],
      "execution_count": null,
      "outputs": []
    },
    {
      "cell_type": "markdown",
      "metadata": {
        "id": "eV8iXolY_8Yz"
      },
      "source": [
        "\n",
        "## Get project data\n",
        "Call the INDIGO API 'project' endpoint and retrieve the data used for the plot."
      ]
    },
    {
      "cell_type": "code",
      "metadata": {
        "id": "Z4lPdGzUD8Ml"
      },
      "source": [
        "data = {}\n",
        "endpoint = 'fund'\n",
        "\n",
        "funds = api_get_item(endpoint=endpoint)['funds']\n",
        "\n",
        "for fund in funds:\n",
        "    if fund['public']:\n",
        "        public_id = fund['id']\n",
        "        data[public_id] = api_get_item(endpoint, public_id)['fund']['data']\n",
        "\n",
        "# print(data)"
      ],
      "execution_count": null,
      "outputs": []
    },
    {
      "cell_type": "code",
      "metadata": {
        "id": "hkeWb_y9_plM"
      },
      "source": [
        "countries = {}\n",
        "\n",
        "num_funds = len(data)\n",
        "\n",
        "print('Number of funds:', num_funds)\n",
        "\n",
        "countries = {}\n",
        "\n",
        "for public_id, fund in data.items():\n",
        "    areas = fund.get('geographic_areas_for_outcome_payment', [])\n",
        "\n",
        "    if not areas:\n",
        "        print('Missing areas:', public_id)\n",
        "\n",
        "    for area in areas:\n",
        "        alpha_2 = area.get('country', {}).get('value')\n",
        "\n",
        "        if alpha_2:\n",
        "            country = pycountry.countries.get(alpha_2=alpha_2)\n",
        "            alpha_3 = country.alpha_3\n",
        "            name = country.name\n",
        "            # print(public_id, country, alpha_2)\n",
        "\n",
        "            if alpha_3 in countries:\n",
        "                countries[alpha_3]['count'] += 1 \n",
        "            else:\n",
        "                countries[alpha_3] = {\n",
        "                    'name': name,\n",
        "                    'count': 1,\n",
        "                    'alpha_2': alpha_2,\n",
        "                }\n",
        "\n",
        "print(countries)\n",
        "\n",
        "locations = []\n",
        "names = []\n",
        "counts = []\n",
        "\n",
        "for alpha_3, value in countries.items():\n",
        "    locations.append(alpha_3)\n",
        "    \n",
        "    name = value['name']\n",
        "    count = value['count']\n",
        "    alpha_2 = value['alpha_2']\n",
        "\n",
        "    names.append(name)\n",
        "    counts.append(count) "
      ],
      "execution_count": null,
      "outputs": []
    },
    {
      "cell_type": "code",
      "metadata": {
        "id": "v3VYI1r6Dmxt"
      },
      "source": [
        "colorbar = dict(\n",
        "    title='Outcome<br>Payments',\n",
        "    title_font_size=15,\n",
        "    title_side='right',\n",
        "    thicknessmode='pixels', \n",
        "    thickness=20,\n",
        "    ticks='outside',\n",
        "    \n",
        ")\n",
        "\n",
        "fig = go.Figure(\n",
        "    data=go.Choropleth(\n",
        "        locations=locations,\n",
        "        text=names,\n",
        "        z=counts,\n",
        "        locationmode='ISO-3',\n",
        "        colorscale='teal',\n",
        "        colorbar=colorbar,\n",
        "        hovertemplate='%{text}: %{z}<extra></extra>',\n",
        "    )\n",
        ")\n",
        "\n",
        "fig.update_layout(\n",
        "    height=700,\n",
        "    width=1200,\n",
        "    title_text = 'INDIGO Funds - Geographic Area for Outcome Payment',\n",
        "    title_font_size=24,\n",
        "    title_x=0.5,\n",
        "    margin={'t': 140, 'b': 0, 'l': 0, 'r': 0},\n",
        "    hoverlabel={'bgcolor': 'white', 'font_size': 16},\n",
        ")\n",
        "\n",
        "fig.show()"
      ],
      "execution_count": null,
      "outputs": []
    },
    {
      "cell_type": "markdown",
      "metadata": {
        "id": "Em90HNm-Luev"
      },
      "source": [
        "## Important Notice and Disclaimer on INDIGO Data\n",
        "<sub><sup>\n",
        "INDIGO data are shared for research and policy analysis purposes. INDIGO data can be used to support a range of insights, for example, to understand the social outcomes that projects aim to improve, the network of organisations across projects, trends, scales, timelines and summary information. The collaborative system by which we collect, process, and share data is designed to advance data-sharing norms, harmonise data definitions and improve data use. These data are NOT shared for auditing, investment, or legal purposes. Please independently verify any data that you might use in decision making. We provide no guarantees or assurances as to the quality of these data. Data may be inaccurate, incomplete, inconsistent, and/or not current for various reasons: INDIGO is a collaborative and iterative initiative that mostly relies on projects all over the world volunteering to share their data. We have a system for processing information and try to attribute data to named sources, but we do not audit, cross-check, or verify all information provided to us. It takes time and resources to share data, which may not have been included in a project’s budget. Many of the projects are ongoing and timely updates may not be available. Different people may have different interpretations of data items and definitions. Even when data are high quality, interpretation or generalisation to different contexts may not be possible and/or requires additional information and/or expertise. Help us improve our data quality: email us at indigo@bsg.ox.ac.uk if you have data on new projects, changes or performance updates on current projects, clarifications or corrections on our data, and/or confidentiality or sensitivity notices. Please also give input via the INDIGO Data Definitions Improvement Tool and INDIGO Feedback Questionnaire.\n",
        "</sup></sub>"
      ]
    }
  ]
}