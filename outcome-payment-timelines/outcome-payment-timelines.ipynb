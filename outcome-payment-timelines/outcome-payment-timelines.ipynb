{
  "nbformat": 4,
  "nbformat_minor": 0,
  "metadata": {
    "colab": {
      "name": "outcome-payment-timelines.ipynb",
      "provenance": [],
      "collapsed_sections": []
    },
    "kernelspec": {
      "name": "python3",
      "display_name": "Python 3"
    }
  },
  "cells": [
    {
      "cell_type": "markdown",
      "metadata": {
        "id": "H2W-Z6hruY_6"
      },
      "source": [
        "# Outcome payment timelines - INDIGO Social Investment / Fund Manager Prototypes\n",
        "The sample data used in this visualisation relate to four impact bonds in which BII is an investor:  Cornwall Frequent Attenders, Street Impact Brighton, Pyramid Project and Skill Mill.\n",
        "\n",
        "The prototype data visualization shows the actual payments made by the outcome payer (e.g. a local government commissioner) expressed as a percentage of the maximum possible outcome payments, over the life of a project."
      ]
    },
    {
      "cell_type": "markdown",
      "metadata": {
        "id": "EBAzdEvMdvMo"
      },
      "source": [
        "## INDIGO database API endpoint\n",
        "Setup INDIGO database API endpoint and helper methods for getting individual items from the API. This can be used with the `project`, `fund`, `organisation` and `assessment_resource` endpoints."
      ]
    },
    {
      "cell_type": "code",
      "metadata": {
        "id": "28txYxh_YW30"
      },
      "source": [
        "import requests\n",
        "\n",
        "import plotly.graph_objects as go\n",
        "\n",
        "from datetime import datetime\n",
        "\n",
        "\n",
        "INDIGO_DATABASE_API = 'https://golab-indigo-data-store.herokuapp.com/app/api1'\n",
        "\n",
        "\n",
        "def api_get_item(endpoint, public_id):\n",
        "    \"\"\"\n",
        "    Get individual item details from the API\n",
        "\n",
        "    E.g. \n",
        "    item = api_get_item('project', 'INDIGO-POJ-0158')\n",
        "    \"\"\"\n",
        "    try:\n",
        "        response = requests.get(f'{INDIGO_DATABASE_API}/{endpoint}/{public_id}')\n",
        "        item = response.json()\n",
        "        return item\n",
        "    except Exception as e:\n",
        "        print(f'\\nFailed to retrieve {endpoint} \"{public_id}\".\\nError: {e}')\n",
        "        return False\n",
        "\n",
        "\n"
      ],
      "execution_count": null,
      "outputs": []
    },
    {
      "cell_type": "markdown",
      "metadata": {
        "id": "Fs1jCVQ0rqQ0"
      },
      "source": [
        "\n",
        "## Helper methods\n",
        "Setup a method to simplify extracting values from the nested data dictionary. We also setup various helper methods for generating plot data for the visualisation. Most of these methods deal with calculating project start/end dates and timestamps."
      ]
    },
    {
      "cell_type": "code",
      "metadata": {
        "id": "JVdg2F3lgGK6"
      },
      "source": [
        "ACCEPTED_DATE_FORMATS = ['%Y-%m-%d', '%Y-%m', '%Y']\n",
        "\n",
        "\n",
        "def extract_value(data, keys, default):\n",
        "    \"\"\"\n",
        "    Safe method to get value from nested dictionary with default value fallback\n",
        "    \"\"\"\n",
        "    try:\n",
        "        result = data\n",
        "        for key in keys:\n",
        "            if result == default:\n",
        "                break\n",
        "            result = result.get(key) or default\n",
        "        return result\n",
        "\n",
        "    except Exception as e:\n",
        "        print(f'Error: {e}')\n",
        "        return default\n",
        "\n",
        "\n",
        "def _get_current_date_unix():\n",
        "    return datetime.now().timestamp()\n",
        "\n",
        "\n",
        "def _convert_date_string_to_timestamp(time_string):\n",
        "    for format in ACCEPTED_DATE_FORMATS:\n",
        "        try:\n",
        "            return datetime.strptime(time_string, format).timestamp()\n",
        "        except ValueError:\n",
        "            pass\n",
        "\n",
        "\n",
        "def _turn_date_to_number_of_days(project_start_unix, string_value):\n",
        "    if not string_value:\n",
        "        return None\n",
        "    value = _convert_date_string_to_timestamp(string_value)\n",
        "    return int((value - project_start_unix) / (24*60*60))\n",
        "\n",
        "\n",
        "def _get_project_start_end_dates(project_data):\n",
        "\n",
        "    fields_start = [\n",
        "        ['dates', 'outcomes_contract_signed', 'value'],\n",
        "        ['dates', 'start_date_of_service_provision', 'value'],\n",
        "    ]\n",
        "\n",
        "    for field in fields_start:\n",
        "        project_start = extract_value(project_data, field, '')\n",
        "        if isinstance(project_start, str) and project_start.strip():\n",
        "            project_start = project_start.strip()[0:7]\n",
        "            project_start_unix = _convert_date_string_to_timestamp(project_start)\n",
        "            break\n",
        "\n",
        "    if not project_start:\n",
        "        raise Exception(\"Project Start date is missing\")\n",
        "\n",
        "    fields_end = [\n",
        "        ['dates', 'actual_completion_date', 'value'],\n",
        "        ['dates', 'anticipated_completion_date', 'value'],\n",
        "        ['dates', 'actual_end_date_of_service_provision', 'value'],\n",
        "        ['dates', 'anticipated_end_date_of_service_provision', 'value'],\n",
        "    ]\n",
        "\n",
        "    project_end_unix = None\n",
        "    project_end_days = None\n",
        "    for field in fields_end:\n",
        "        project_end = extract_value(project_data, field, '')\n",
        "        if isinstance(project_end, str) and project_end.strip():\n",
        "            project_end = project_end.strip()[0:7]\n",
        "            project_end_unix = _convert_date_string_to_timestamp(project_end)\n",
        "            project_end_days = _turn_date_to_number_of_days(project_start_unix=project_start_unix, string_value=project_end)\n",
        "            break\n",
        "\n",
        "    return project_start_unix, project_end_unix, project_end_days\n",
        "\n",
        "\n",
        "def _get_number_of_days_to_now(project_start_unix):\n",
        "    current_date_unix = _get_current_date_unix()\n",
        "    return int((current_date_unix - project_start_unix) / (24*60*60))\n",
        "\n",
        "\n",
        "def _get_final_points_to_add(values_to_plot, project_start_unix, project_end_unix, project_end_days):\n",
        "    \"\"\"\n",
        "    This will generate a line from the final value to the end of the project or current date\n",
        "    \"\"\"\n",
        "    current_date_unix = _get_current_date_unix()\n",
        "    if project_end_unix and project_end_unix > current_date_unix:\n",
        "        return [\n",
        "            {\n",
        "                'date': _get_number_of_days_to_now(project_start_unix),\n",
        "                'value': values_to_plot[len(values_to_plot) - 1]['value'],\n",
        "                'date_mode': 'now',\n",
        "            },\n",
        "            {\n",
        "                'date': project_end_days,\n",
        "                'value': values_to_plot[len(values_to_plot) - 1]['value'],\n",
        "                'date_mode': 'future_end',\n",
        "            }\n",
        "        ]\n",
        "    elif project_end_unix:\n",
        "        return[{\n",
        "            'date': project_end_days,\n",
        "            'value': values_to_plot[len(values_to_plot) - 1]['value'],\n",
        "            'date_mode': 'past_end',\n",
        "        }]\n",
        "    else:\n",
        "        return[{\n",
        "            'date': _get_number_of_days_to_now(project_start_unix),\n",
        "            'value': values_to_plot[len(values_to_plot) - 1]['value'],\n",
        "            'date_mode': 'no_end',\n",
        "        }]\n",
        "\n",
        "\n",
        "def _accumulate_values_across_data(data):\n",
        "    accumulated_total = 0\n",
        "    out = []\n",
        "    for transaction_detail in data:\n",
        "        accumulated_total += transaction_detail['value']\n",
        "        out.append({\n",
        "            'date': transaction_detail['date'],\n",
        "            'value': accumulated_total\n",
        "        })\n",
        "    return out"
      ],
      "execution_count": null,
      "outputs": []
    },
    {
      "cell_type": "markdown",
      "metadata": {
        "id": "YfS5Z3qRxbpu"
      },
      "source": [
        "## Visualisation data\n",
        "This is the main method for generating the plot data. It is called for each project."
      ]
    },
    {
      "cell_type": "code",
      "metadata": {
        "id": "hs_N4cJqxSvI"
      },
      "source": [
        "def visualisation_data_social_investment_prototype_1(project_data):\n",
        "    try:\n",
        "        transactions = extract_value(project_data, ['transactions'], [])\n",
        "        # filter transaction for only Outcome Payments\n",
        "        transactions = [transaction for transaction in transactions if extract_value(\n",
        "            transaction, ['transaction_type', 'value'], 0) == 'Outcome Payment']\n",
        "        if len(transactions) == 0:\n",
        "            return {'fail': 'No transactions of right type'}\n",
        "\n",
        "        currencies = [extract_value(\n",
        "            transaction, ['money', 'currency', 'value'], None) for transaction in transactions]\n",
        "        # If there are inconsistent currencies or payments where the currency is not specified skip the project\n",
        "        # TODO also include the currency of maximum_potential_outcome_payment in this check.\n",
        "        if None in currencies or len(set(currencies)) > 1:\n",
        "            return {'fail': 'Currencies do not match'}\n",
        "\n",
        "        max_outcome_payment = float(extract_value(\n",
        "            project_data, ['overall_project_finance', 'maximum_potential_outcome_payment', 'value'], None))\n",
        "        if max_outcome_payment is None:\n",
        "            return {'fail': 'max payment missing'}\n",
        "\n",
        "        project_start_unix, project_end_unix, project_end_days = _get_project_start_end_dates(project_data)\n",
        "\n",
        "        # Get all transaction details\n",
        "        transaction_details_all = [\n",
        "            {\n",
        "                'date': _turn_date_to_number_of_days(\n",
        "                    project_start_unix=project_start_unix,\n",
        "                    string_value=extract_value(transaction, ['date', 'value'], None)\n",
        "                ),\n",
        "                'value': float(extract_value(transaction, ['money', 'amount', 'value'], None)),\n",
        "            }\n",
        "            for transaction in transactions\n",
        "        ]\n",
        "\n",
        "        # Only get ones that have actual values we care about\n",
        "        transaction_details = [\n",
        "            transaction_detail for transaction_detail in transaction_details_all if\n",
        "            transaction_detail['date'] and transaction_detail['value']\n",
        "        ]\n",
        "\n",
        "        if transaction_details:\n",
        "            # this will start the line at 0,0\n",
        "            transaction_details.insert(0, {'date': 0, 'value': 0})\n",
        "            # sort by date position\n",
        "            transaction_details = sorted(transaction_details, key=lambda i: i['date'])\n",
        "            # apply the accumulator for the transactions\n",
        "            transactions_details_cumulative = _accumulate_values_across_data(transaction_details)\n",
        "            # turn the transaction values into percentages of the maximum potential outcome payment\n",
        "            transaction_details = [\n",
        "                {\n",
        "                    'date': transaction_detail['date'],\n",
        "                    'value': transaction_detail['value'] / max_outcome_payment * 100\n",
        "                }\n",
        "                for transaction_detail in transactions_details_cumulative\n",
        "            ]\n",
        "\n",
        "            # this will generate a line from the final payment to the end of the project or current date\n",
        "            transaction_details.extend(_get_final_points_to_add(\n",
        "                transaction_details,\n",
        "                project_start_unix,\n",
        "                project_end_unix,\n",
        "                project_end_days,\n",
        "            ))\n",
        "\n",
        "            return {'data': transaction_details}\n",
        "        else:\n",
        "            return {'fail': \"No Transactions we can use\"}\n",
        "\n",
        "    except Exception as e:\n",
        "        print(f'Error in visualisation_data_social_investment_prototype_1: {e}')\n",
        "        return {'fail': str(e)}"
      ],
      "execution_count": null,
      "outputs": []
    },
    {
      "cell_type": "markdown",
      "metadata": {
        "id": "WmV5HgsXnjhm"
      },
      "source": [
        "## Plot helper method\n",
        "Setup the plot build helper method that can create a `Plotly` scatter trace from the prototype data for a project."
      ]
    },
    {
      "cell_type": "code",
      "metadata": {
        "id": "xG5hO-P-mnCA"
      },
      "source": [
        "DATE_MODE_TO_MARKER_LOOKUP_FOR_VIZ_1_2_AND_3 = {\n",
        "    'past_end': 'square',\n",
        "    'future_end': 'triangle-left',\n",
        "    'no_end': 'hourglass',\n",
        "    'now': 'x',\n",
        "    'unknown': 0,\n",
        "}\n",
        "\n",
        "MARKER_LINE_SIZE_SPECIAL = 20\n",
        "MARKER_LINE_SIZE_NORMAL = 5\n",
        "\n",
        "\n",
        "def build_plot(name, prototype):\n",
        "    \"\"\"\n",
        "    Build a line/scatter plot\n",
        "    \"\"\"\n",
        "    x = []\n",
        "    y = []\n",
        "    marker_symbol = []\n",
        "    marker_size = []\n",
        "\n",
        "    for detail in prototype.get('data'):\n",
        "        x.append(detail['date'])\n",
        "        y.append(detail['value'])\n",
        "\n",
        "        marker_symbol.append(\n",
        "            DATE_MODE_TO_MARKER_LOOKUP_FOR_VIZ_1_2_AND_3[detail.get('date_mode', 'unknown')]\n",
        "        )\n",
        "\n",
        "        marker_size.append(\n",
        "            MARKER_LINE_SIZE_NORMAL if detail.get('date_mode', 'unknown') == 'unknown' else MARKER_LINE_SIZE_SPECIAL\n",
        "        )\n",
        "\n",
        "    return go.Scatter(\n",
        "        name=name,\n",
        "        x=x,\n",
        "        y=y,\n",
        "        marker_symbol=marker_symbol,\n",
        "        marker_size=marker_size,\n",
        "    )"
      ],
      "execution_count": null,
      "outputs": []
    },
    {
      "cell_type": "markdown",
      "metadata": {
        "id": "2d0PaZ5bdLOp"
      },
      "source": [
        "## Get project data\n",
        "Now we actually call the INDIGO API 'project' endpoint and retrieve the data for each of the projects of interest."
      ]
    },
    {
      "cell_type": "code",
      "metadata": {
        "id": "KJWBuo4Cbj55"
      },
      "source": [
        "# Call the API and pull down the data for each project\n",
        "# and store in a dictionary for use later.\n",
        "public_ids = ['INDIGO-POJ-0158', 'INDIGO-POJ-0167', 'INDIGO-POJ-0194', 'INDIGO-POJ-0195']\n",
        "\n",
        "data = {}\n",
        "endpoint = 'project'\n",
        "\n",
        "for public_id in public_ids:\n",
        "    data[public_id] = api_get_item(endpoint, public_id)"
      ],
      "execution_count": null,
      "outputs": []
    },
    {
      "cell_type": "markdown",
      "metadata": {
        "id": "Dn02BnOsqiP9"
      },
      "source": [
        "## Generate plot data\n",
        "Pass each project to the `visualisation_data_social_investment_prototype_1` method and build a plot with the return values if they are valid."
      ]
    },
    {
      "cell_type": "code",
      "metadata": {
        "id": "HiGYqLbQewfw"
      },
      "source": [
        "# Calculate the prototype data for each\n",
        "plot_data = []\n",
        "\n",
        "for public_id in public_ids:\n",
        "    project_data = data[public_id]['project']['data']\n",
        "    prototype = visualisation_data_social_investment_prototype_1(project_data)\n",
        "\n",
        "    # Print out the return prototype data structure. It is possible that not\n",
        "    # all projects have data available to plot.\n",
        "    print(public_id, prototype)\n",
        "\n",
        "    if not prototype or not prototype.get('data'):\n",
        "       continue\n",
        "\n",
        "    plot = build_plot(public_id, prototype)\n",
        "    plot_data.append(plot)"
      ],
      "execution_count": null,
      "outputs": []
    },
    {
      "cell_type": "markdown",
      "metadata": {
        "id": "N-vtZyLn_8i8"
      },
      "source": [
        "## Build the figure"
      ]
    },
    {
      "cell_type": "code",
      "metadata": {
        "id": "j4ktlZiL_1LY"
      },
      "source": [
        "fig = go.Figure(data=plot_data)\n",
        "\n",
        "fig.update_traces(\n",
        "    hovertemplate='%{x} days, %{y:.1f} %',\n",
        ")\n",
        "\n",
        "fig.update_layout(\n",
        "    height=800,\n",
        "    title='Outcome payment timelines',\n",
        "    title_x=0.5,\n",
        "    xaxis_title='Days since start',\n",
        "    yaxis_title='Percent outcome payment of maximum potential',\n",
        "    showlegend=True,\n",
        ")\n",
        "\n",
        "fig.show()"
      ],
      "execution_count": null,
      "outputs": []
    },
    {
      "cell_type": "markdown",
      "metadata": {
        "id": "vIllgNuHvt35"
      },
      "source": [
        "Prototype Data Visualization 1 shows the actual payments made by the outcome payer (e.g. a local government commissioner) expressed as a percentage of the maximum possible outcome payments, over the life of a project.\n",
        "\n",
        "The **x-axis** represents time since the start of the project in days. The start of the project is taken from “Date Outcomes Contract Signed” and the end of the project is taken from and “Date of Completion of the Service” data, which are variables on the General Overview tab of the INDIGO Impact Bond Dataset V2 Spreadsheet. (Future work may include capturing an “Anticipated Final Payment Date”, which could be used as the end date.) \n",
        "\n",
        "The **y-axis** represents the outcome payments that the outcome payer has made as a percentage of the maximum outcome payments available under the contract.\n",
        "\n",
        "Data on actual payments are taken from the “Transactions\" tab where transactions are from the outcome payer. The maximum payments the project can achieve is from “Maximum Potential Outcome Payment” in the general overview tab. \n",
        "\n",
        "The line moves up vertically (on the y axis) showing the percentage of outcome payments accumulated over time. If a project is wholly successful, we would expect it to reach 100% by the end date showing maximum outcomes have been achieved. \n",
        "\n",
        "Therefore, this visualisation shows how outcome payments are distributed throughout the life of the contract. The shape of the line will depend both on project performance against payable outcomes and the contract’s emphasis on ‘Final’ outcomes (that may take a long time to achieve and measure).  \n",
        "\n",
        "In this version of Prototype Data Visualization 1, we show outcome payments on the Cornwall Frequent Attenders project (INDIGO-POJ-0167). The visualization shows that the commissioner, Cornwall County Council, had paid 23% of the project’s maximum potential payments by Day 784. The project extends until Day 2223 (i.e. 6 years). In other words, the project has been set up and delivered two years of service, but the commissioner has paid less than a quarter of the maximum outcome payments."
      ]
    },
    {
      "cell_type": "markdown",
      "metadata": {
        "id": "gP95rG-GLG3P"
      },
      "source": [
        "## Important Notice and Disclaimer on INDIGO Data\n",
        "<sub><sup>\n",
        "INDIGO data are shared for research and policy analysis purposes. INDIGO data can be used to support a range of insights, for example, to understand the social outcomes that projects aim to improve, the network of organisations across projects, trends, scales, timelines and summary information. The collaborative system by which we collect, process, and share data is designed to advance data-sharing norms, harmonise data definitions and improve data use. These data are NOT shared for auditing, investment, or legal purposes. Please independently verify any data that you might use in decision making. We provide no guarantees or assurances as to the quality of these data. Data may be inaccurate, incomplete, inconsistent, and/or not current for various reasons: INDIGO is a collaborative and iterative initiative that mostly relies on projects all over the world volunteering to share their data. We have a system for processing information and try to attribute data to named sources, but we do not audit, cross-check, or verify all information provided to us. It takes time and resources to share data, which may not have been included in a project’s budget. Many of the projects are ongoing and timely updates may not be available. Different people may have different interpretations of data items and definitions. Even when data are high quality, interpretation or generalisation to different contexts may not be possible and/or requires additional information and/or expertise. Help us improve our data quality: email us at indigo@bsg.ox.ac.uk if you have data on new projects, changes or performance updates on current projects, clarifications or corrections on our data, and/or confidentiality or sensitivity notices. Please also give input via the INDIGO Data Definitions Improvement Tool and INDIGO Feedback Questionnaire.\n",
        "</sup></sub>\n"
      ]
    }
  ]
}