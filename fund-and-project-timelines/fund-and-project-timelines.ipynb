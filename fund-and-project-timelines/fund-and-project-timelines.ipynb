{
  "nbformat": 4,
  "nbformat_minor": 0,
  "metadata": {
    "colab": {
      "name": "Fund -  timelines.ipynb",
      "provenance": [],
      "collapsed_sections": [],
      "toc_visible": true
    },
    "kernelspec": {
      "name": "python3",
      "display_name": "Python 3"
    },
    "language_info": {
      "name": "python"
    }
  },
  "cells": [
    {
      "cell_type": "markdown",
      "metadata": {
        "id": "Dj6w13uagPpr"
      },
      "source": [
        "# Fund -  Timelines"
      ]
    },
    {
      "cell_type": "markdown",
      "metadata": {
        "id": "zVI6cSrI5C0K"
      },
      "source": [
        "## Libs and setup\n"
      ]
    },
    {
      "cell_type": "code",
      "metadata": {
        "id": "UQQ1i6fd5EgN"
      },
      "source": [
        "!pip install --upgrade plotly\n",
        "!pip install kaleido"
      ],
      "execution_count": null,
      "outputs": []
    },
    {
      "cell_type": "code",
      "metadata": {
        "id": "5PggR_OFgjVZ"
      },
      "source": [
        "import requests\n",
        "import plotly.express as px\n",
        "import pandas as pd\n",
        "from datetime import datetime\n",
        "\n",
        "INDIGO_DATABASE_API = 'https://golab-indigo-data-store.herokuapp.com/app/api1'\n",
        "\n",
        "\n",
        "def api_get_item(endpoint, public_id=None):\n",
        "    \"\"\"\n",
        "    Get individual item details from the API\n",
        "\n",
        "    E.g. \n",
        "    item = api_get_item('project', 'INDIGO-POJ-0158')\n",
        "    \"\"\"\n",
        "    try:\n",
        "        if public_id:\n",
        "            response = requests.get(f'{INDIGO_DATABASE_API}/{endpoint}/{public_id}')\n",
        "        else:\n",
        "            response = requests.get(f'{INDIGO_DATABASE_API}/{endpoint}')\n",
        "        item = response.json()\n",
        "        return item\n",
        "    except Exception as e:\n",
        "        print(f'\\nFailed to retrieve {endpoint} \"{public_id}\".\\nError: {e}')\n",
        "        return False\n",
        "\n",
        "PROJECT_DATE_START_KEYS = ['contract_signed','contract_all_parties_signed','start_date']\n",
        "PROJECT_DATE_END_KEYS = ['actual_completion','anticipated_completion','actual_end','anticipated_end']\n",
        "ACCEPTED_DATE_FORMATS = ['%Y-%m-%d', '%Y-%m', '%Y']\n",
        "\n",
        "def _convert_date_string_to_timestamp(time_string):\n",
        "    for format in ACCEPTED_DATE_FORMATS:\n",
        "        try:\n",
        "            return datetime.strptime(time_string, format).timestamp()\n",
        "        except ValueError:\n",
        "            pass\n",
        "\n",
        "def get_date_from_project_data(data, keys):\n",
        "    for key in keys:\n",
        "        if data[key]:\n",
        "            return data[key], _convert_date_string_to_timestamp(data[key])\n",
        "    return None, None\n",
        "\n",
        "\n",
        "def viz(sankey_height=500):\n",
        "    data = []\n",
        "    for fund_id, fund_project_list in fund_has_projects.items():\n",
        "\n",
        "        min_fund_date = None\n",
        "        min_fund_timestamp = None\n",
        "        max_fund_date = None\n",
        "        max_fund_timestamp = None\n",
        "\n",
        "        fund_data = []\n",
        "        for project_id in fund_project_list:\n",
        "            project_start_date, project_start_timestamp = get_date_from_project_data(project_dates[project_id], PROJECT_DATE_START_KEYS)\n",
        "            project_end_date, project_end_timestamp = get_date_from_project_data(project_dates[project_id], PROJECT_DATE_END_KEYS)\n",
        "            if project_start_date and project_end_date:\n",
        "                fund_data.append(dict(Object=project_id, Start=project_start_date, Finish=project_end_date, Resource=\"Project\"))\n",
        "                if min_fund_timestamp is None or project_start_timestamp < min_fund_timestamp:\n",
        "                    min_fund_date = project_start_date\n",
        "                    min_fund_timestamp = project_start_timestamp\n",
        "                if max_fund_timestamp is None or project_end_timestamp > max_fund_timestamp:\n",
        "                    max_fund_date = project_end_date\n",
        "                    max_fund_timestamp = project_end_timestamp                \n",
        "\n",
        "        if fund_data:\n",
        "            data.append(dict(Object=fund_id, Start=min_fund_date, Finish=max_fund_date, Resource=\"Fund\"))\n",
        "            data.extend(fund_data)\n",
        "    if data:\n",
        "        fig = px.timeline(pd.DataFrame(data), x_start=\"Start\", x_end=\"Finish\", y=\"Object\", color=\"Resource\")\n",
        "        fig.update_yaxes(autorange=\"reversed\") # otherwise tasks are listed from the bottom up\n",
        "        fig.update_layout(\n",
        "            height=sankey_height,\n",
        "        )\n",
        "        fig.show()\n",
        "        fig.write_image('fun-and-project-timelines.png')\n"
      ],
      "execution_count": null,
      "outputs": []
    },
    {
      "cell_type": "markdown",
      "metadata": {
        "id": "r8igs_oc6IHP"
      },
      "source": [
        "## Get Fund data\n",
        "Call the INDIGO API 'fund' endpoint and retrieve the data.\n"
      ]
    },
    {
      "cell_type": "code",
      "metadata": {
        "id": "zrtR_Ip-RX0P"
      },
      "source": [
        "public_ids = []\n",
        "endpoint = 'fund'\n",
        "\n",
        "for fund_data in api_get_item(endpoint).get('funds'):\n",
        "    if fund_data.get('public'):\n",
        "        public_ids.append(fund_data.get('id'))\n",
        "\n",
        "fund_data = {}\n",
        "\n",
        "for fund_id in public_ids:\n",
        "    print(\"Getting Fund \" + fund_id)\n",
        "    fund_data[fund_id] = api_get_item(endpoint, fund_id)"
      ],
      "execution_count": null,
      "outputs": []
    },
    {
      "cell_type": "markdown",
      "metadata": {
        "id": "MwmhtRfZg8yy"
      },
      "source": [
        "## Get Project Data"
      ]
    },
    {
      "cell_type": "code",
      "metadata": {
        "id": "IO9vMxxKg-Bz"
      },
      "source": [
        "!wget https://golab-indigo-data-store.herokuapp.com/app/all_public_data_file_per_data_type_csv.zip\n",
        "!unzip -o all_public_data_file_per_data_type_csv.zip"
      ],
      "execution_count": null,
      "outputs": []
    },
    {
      "cell_type": "code",
      "metadata": {
        "id": "-u4rDCUahMwh"
      },
      "source": [
        "import csv\n",
        "from collections import defaultdict\n",
        "\n",
        "# Get a list of which funds have which projects\n",
        "fund_has_projects = defaultdict(list)\n",
        "with open('projects_outcome_funds.csv', newline='') as csvfile:\n",
        "     outcomefundreader = csv.DictReader(csvfile)\n",
        "     for row in outcomefundreader:\n",
        "         fund_has_projects[row['Id']].append(row['Project ID'])\n",
        "\n",
        "# Get a list of Project Dates\n",
        "project_dates =  {}\n",
        "with open('projects.csv', newline='') as csvfile:\n",
        "     outcomefundreader = csv.DictReader(csvfile)\n",
        "     for row in outcomefundreader:\n",
        "         project_dates[row['ID']] = {\n",
        "             'contract_signed': row['Dates - Date outcomes contract signed - (Value)'],\n",
        "             'contract_all_parties_signed': row['Dates - Date contracts between all parties signed - (Value)'],\n",
        "             'anticipated_completion': row['Dates - Anticipated completion date - (Value)'],\n",
        "             'actual_completion': row['Dates - Actual completion date - (Value)'],\n",
        "             'start_date': row['Dates - Start date of service provision - (Value)'],\n",
        "             'anticipated_end': row['Dates - Anticipated end date of service provision - (Value)'],\n",
        "             'actual_end': row['Dates - Actual end date of service provision - (Value)'],\n",
        "         }\n"
      ],
      "execution_count": null,
      "outputs": []
    },
    {
      "cell_type": "markdown",
      "metadata": {
        "id": "lbjZ9bTtmBNl"
      },
      "source": [
        "## Make Visulisation!"
      ]
    },
    {
      "cell_type": "code",
      "metadata": {
        "id": "lj99HUk6mFEK"
      },
      "source": [
        "viz(1000)\n"
      ],
      "execution_count": null,
      "outputs": []
    }
  ]
}
