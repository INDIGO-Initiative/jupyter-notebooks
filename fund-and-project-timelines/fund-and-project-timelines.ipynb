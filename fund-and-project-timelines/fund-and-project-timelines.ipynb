{
  "nbformat": 4,
  "nbformat_minor": 0,
  "metadata": {
    "colab": {
      "name": "Fund -  timelines.ipynb",
      "provenance": [],
      "collapsed_sections": [],
      "toc_visible": true
    },
    "kernelspec": {
      "name": "python3",
      "display_name": "Python 3"
    },
    "language_info": {
      "name": "python"
    }
  },
  "cells": [
    {
      "cell_type": "markdown",
      "metadata": {
        "id": "Dj6w13uagPpr"
      },
      "source": [
        "# Fund -  Timelines"
      ]
    },
    {
      "cell_type": "markdown",
      "metadata": {
        "id": "zVI6cSrI5C0K"
      },
      "source": [
        "## Libs and setup\n"
      ]
    },
    {
      "cell_type": "code",
      "metadata": {
        "id": "UQQ1i6fd5EgN"
      },
      "source": [
        "!pip install --upgrade plotly\n",
        "!pip install kaleido"
      ],
      "execution_count": null,
      "outputs": []
    },
    {
      "cell_type": "code",
      "metadata": {
        "id": "5PggR_OFgjVZ"
      },
      "source": [
        "import requests\n",
        "import plotly.express as px\n",
        "import pandas as pd\n",
        "from datetime import datetime\n",
        "\n",
        "INDIGO_DATABASE_API = 'https://golab-indigo-data-store.herokuapp.com/app/api1'\n",
        "\n",
        "\n",
        "def api_get_item(endpoint, public_id=None):\n",
        "    \"\"\"\n",
        "    Get individual item details from the API\n",
        "\n",
        "    E.g. \n",
        "    item = api_get_item('project', 'INDIGO-POJ-0158')\n",
        "    \"\"\"\n",
        "    try:\n",
        "        if public_id:\n",
        "            response = requests.get(f'{INDIGO_DATABASE_API}/{endpoint}/{public_id}')\n",
        "        else:\n",
        "            response = requests.get(f'{INDIGO_DATABASE_API}/{endpoint}')\n",
        "        item = response.json()\n",
        "        return item\n",
        "    except Exception as e:\n",
        "        print(f'\\nFailed to retrieve {endpoint} \"{public_id}\".\\nError: {e}')\n",
        "        return False\n",
        "\n",
        "PROJECT_DATE_START_KEYS = ['contract_signed','contract_all_parties_signed','start_date']\n",
        "PROJECT_DATE_END_KEYS = ['actual_completion','anticipated_completion','actual_end','anticipated_end']\n",
        "FUND_DATE_START_KEYS = ['expression_of_interest','launch_date']\n",
        "FUND_DATE_END_KEYS = ['actual_end_date','anticipated_end_date']\n",
        "ACCEPTED_DATE_FORMATS = ['%Y-%m-%d', '%Y-%m', '%Y']\n",
        "\n",
        "def _convert_date_string_to_timestamp(time_string):\n",
        "    for format in ACCEPTED_DATE_FORMATS:\n",
        "        try:\n",
        "            return datetime.strptime(str(time_string), format).timestamp()\n",
        "        except ValueError:\n",
        "            pass\n",
        "\n",
        "def get_date_from_project_data(data, keys):\n",
        "    for key in keys:\n",
        "        if data[key]:\n",
        "            return data[key], _convert_date_string_to_timestamp(data[key])\n",
        "    return None, None\n",
        "\n",
        "def get_date_from_fund_data(data, keys):\n",
        "    for key in keys:\n",
        "        value = data.get('dates',{}).get(key,{}).get('value')\n",
        "        if value:\n",
        "            return value, _convert_date_string_to_timestamp(value)\n",
        "    return None, None\n",
        "\n",
        "def get_default_end_date_from_start_date(start_date):\n",
        "    if '-' in start_date:\n",
        "        bits = start_date.split('-')\n",
        "        if bits[1] == \"12\":\n",
        "            return str(int(bits[0])+1)+'-01'\n",
        "        else:\n",
        "            return bits[0]+'-'+'{:02d}'.format(int(bits[1])+1)\n",
        "    else:\n",
        "        return str(start_date)+\"-01\"\n",
        "\n",
        "def viz_for_fund(fund_id, sankey_height=500):\n",
        "\n",
        "    # Fund min/max\n",
        "    min_fund_date, min_fund_timestamp = get_date_from_fund_data(fund_data[fund_id], FUND_DATE_START_KEYS)\n",
        "    max_fund_date, max_fund_timestamp = get_date_from_fund_data(fund_data[fund_id], FUND_DATE_END_KEYS)\n",
        "\n",
        "    # Get projects data \n",
        "    # (Check fund min/max at same time)\n",
        "    projects_data = []\n",
        "    for project_id in fund_has_projects[fund_id]:\n",
        "        project_start_date, project_start_timestamp = get_date_from_project_data(project_dates[project_id], PROJECT_DATE_START_KEYS)\n",
        "        project_end_date, project_end_timestamp = get_date_from_project_data(project_dates[project_id], PROJECT_DATE_END_KEYS)\n",
        "        if project_start_date and project_end_date:\n",
        "            projects_data.append(dict(\n",
        "                Object=project_id, \n",
        "                Start=project_start_date, \n",
        "                Finish=project_end_date, \n",
        "                Resource=\"Project\",\n",
        "            ))\n",
        "            if min_fund_timestamp is None or project_start_timestamp < min_fund_timestamp:\n",
        "                min_fund_date = project_start_date\n",
        "                min_fund_timestamp = project_start_timestamp\n",
        "            if max_fund_timestamp is None or project_end_timestamp > max_fund_timestamp:\n",
        "                max_fund_date = project_end_date\n",
        "                max_fund_timestamp = project_end_timestamp                \n",
        "        elif project_start_date and not project_end_date:\n",
        "            projects_data.append(dict(\n",
        "                Object=project_id, \n",
        "                Start=project_start_date,\n",
        "                Finish=get_default_end_date_from_start_date(project_start_date), \n",
        "                Resource=\"Project with unknown end\"\n",
        "            ))\n",
        "            if min_fund_timestamp is None or project_start_timestamp < min_fund_timestamp:\n",
        "                min_fund_date = project_start_date\n",
        "                min_fund_timestamp = project_start_timestamp\n",
        "            if max_fund_timestamp is None or project_start_timestamp > max_fund_timestamp:\n",
        "                max_fund_date = project_start_date\n",
        "                max_fund_timestamp = project_start_timestamp     \n",
        "    # Get data for viz\n",
        "    data = []\n",
        "    if min_fund_date and max_fund_date:\n",
        "        data.append(dict(\n",
        "            Object=fund_id, \n",
        "            Start=min_fund_date, \n",
        "            Finish=max_fund_date, \n",
        "            Resource=\"Fund\",\n",
        "            ))\n",
        "    data.extend(projects_data)\n",
        "\n",
        "    if data:\n",
        "        fig = px.timeline(\n",
        "            pd.DataFrame(data), \n",
        "            x_start=\"Start\", \n",
        "            x_end=\"Finish\", \n",
        "            y=\"Object\", \n",
        "            color=\"Resource\",\n",
        "            )\n",
        "        fig.update_yaxes(autorange=\"reversed\") # otherwise tasks are listed from the bottom up\n",
        "        fig.update_layout(\n",
        "            height=sankey_height,\n",
        "            yaxis=dict(tickmode='linear', title=\"Fund and Projects\")\n",
        "        )\n",
        "        fig.show()\n",
        "        fig.write_image('fun-and-project-timelines-'+fund_id+'.png')\n"
      ],
      "execution_count": null,
      "outputs": []
    },
    {
      "cell_type": "markdown",
      "metadata": {
        "id": "r8igs_oc6IHP"
      },
      "source": [
        "## Get Fund data\n",
        "Call the INDIGO API 'fund' endpoint and retrieve the data.\n"
      ]
    },
    {
      "cell_type": "code",
      "metadata": {
        "id": "zrtR_Ip-RX0P"
      },
      "source": [
        "public_ids = []\n",
        "endpoint = 'fund'\n",
        "\n",
        "for fund_data in api_get_item(endpoint).get('funds'):\n",
        "    if fund_data.get('public'):\n",
        "        public_ids.append(fund_data.get('id'))\n",
        "\n",
        "fund_data = {}\n",
        "\n",
        "for fund_id in public_ids:\n",
        "    print(\"Getting Fund \" + fund_id)\n",
        "    fund_data[fund_id] = api_get_item(endpoint, fund_id).get('fund',{}).get('data',{})"
      ],
      "execution_count": null,
      "outputs": []
    },
    {
      "cell_type": "markdown",
      "metadata": {
        "id": "MwmhtRfZg8yy"
      },
      "source": [
        "## Get Project Data"
      ]
    },
    {
      "cell_type": "code",
      "metadata": {
        "id": "IO9vMxxKg-Bz"
      },
      "source": [
        "!wget https://golab-indigo-data-store.herokuapp.com/app/all_public_data_file_per_data_type_csv.zip\n",
        "!unzip -o all_public_data_file_per_data_type_csv.zip"
      ],
      "execution_count": null,
      "outputs": []
    },
    {
      "cell_type": "code",
      "metadata": {
        "id": "-u4rDCUahMwh"
      },
      "source": [
        "import csv\n",
        "from collections import defaultdict\n",
        "\n",
        "# Get a list of which funds have which projects\n",
        "fund_has_projects = defaultdict(list)\n",
        "with open('projects_outcome_funds.csv', newline='') as csvfile:\n",
        "     outcomefundreader = csv.DictReader(csvfile)\n",
        "     for row in outcomefundreader:\n",
        "         fund_has_projects[row['Id']].append(row['Project ID'])\n",
        "\n",
        "# Get a list of Project Dates\n",
        "project_dates =  {}\n",
        "with open('projects.csv', newline='') as csvfile:\n",
        "     outcomefundreader = csv.DictReader(csvfile)\n",
        "     for row in outcomefundreader:\n",
        "         project_dates[row['ID']] = {\n",
        "             'contract_signed': row['Dates - Date outcomes contract signed - (Value)'],\n",
        "             'contract_all_parties_signed': row['Dates - Date contracts between all parties signed - (Value)'],\n",
        "             'anticipated_completion': row['Dates - Anticipated completion date - (Value)'],\n",
        "             'actual_completion': row['Dates - Actual completion date - (Value)'],\n",
        "             'start_date': row['Dates - Start date of service provision - (Value)'],\n",
        "             'anticipated_end': row['Dates - Anticipated end date of service provision - (Value)'],\n",
        "             'actual_end': row['Dates - Actual end date of service provision - (Value)'],\n",
        "         }\n"
      ],
      "execution_count": null,
      "outputs": []
    },
    {
      "cell_type": "markdown",
      "metadata": {
        "id": "lbjZ9bTtmBNl"
      },
      "source": [
        "## Make Visulisation!"
      ]
    },
    {
      "cell_type": "code",
      "metadata": {
        "id": "lj99HUk6mFEK"
      },
      "source": [
        "for fund_id in fund_data:\n",
        "    print(\"Fund \" + fund_id)\n",
        "    viz_for_fund(fund_id)\n"
      ],
      "execution_count": null,
      "outputs": []
    }
  ]
}
