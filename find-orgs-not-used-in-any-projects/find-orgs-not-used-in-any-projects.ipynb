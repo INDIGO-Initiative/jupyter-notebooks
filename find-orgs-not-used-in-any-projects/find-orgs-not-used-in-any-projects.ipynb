{
  "nbformat": 4,
  "nbformat_minor": 0,
  "metadata": {
    "colab": {
      "name": "GoLab-FindOrgsNotUsedInProjects.ipynb",
      "provenance": []
    },
    "kernelspec": {
      "name": "python3",
      "display_name": "Python 3"
    }
  },
  "cells": [
    {
      "cell_type": "markdown",
      "metadata": {
        "id": "ShyoAc9bdTsy"
      },
      "source": [
        "# Find Organisations Not Used In Projects\n",
        "\n",
        "This report finds any public organisations listed in the API that are not PUBLICLY used in projects.\n",
        "\n",
        "If an organisation is still used privately in a project, then this report will list it as \"not being used anywhere\" when in reality it is.\n",
        "\n",
        "I suspect this isn't a problem, so we can continue with this approach.\n",
        "\n",
        "\n",
        "\n"
      ]
    },
    {
      "cell_type": "markdown",
      "metadata": {
        "id": "zwY-3FWtd4gk"
      },
      "source": [
        "## Import a library to get data from API\n"
      ]
    },
    {
      "cell_type": "code",
      "metadata": {
        "id": "JBQhX3aAd8Wi"
      },
      "source": [
        "import requests"
      ],
      "execution_count": null,
      "outputs": []
    },
    {
      "cell_type": "markdown",
      "metadata": {
        "id": "HYyC8KwIeMbz"
      },
      "source": [
        "# Get a list of public organisations\n",
        "\n",
        "Store them in an array with flags to indicate whether they are used or not.\n",
        "\n",
        "The flags start as False and as we find evidence of use (in the next step) will be changed to True\n"
      ]
    },
    {
      "cell_type": "code",
      "metadata": {
        "id": "09n0VU3femr6"
      },
      "source": [
        "organisations_used = {}\n",
        "response_orgs = requests.get('https://golab-indigo-data-store.herokuapp.com/app/api1/organisation')\n",
        "for org_info in response_orgs.json()['organisations']:\n",
        "  if org_info['public']:\n",
        "    organisations_used[org_info['id']] = False"
      ],
      "execution_count": null,
      "outputs": []
    },
    {
      "cell_type": "markdown",
      "metadata": {
        "id": "heyDlJzkfJBt"
      },
      "source": [
        "# Process Projects\n",
        "\n",
        "Get a list of each projects.\n",
        "\n",
        "For each public project, get the full data and then for each organisation - mark it as used"
      ]
    },
    {
      "cell_type": "code",
      "metadata": {
        "id": "e0kB5ruZfWzo"
      },
      "source": [
        "response_projects = requests.get('https://golab-indigo-data-store.herokuapp.com/app/api1/project')\n",
        "for project_info in response_projects.json()['projects']:\n",
        "  if project_info['public']:\n",
        "    print(\"Checking project \" + project_info['id'])\n",
        "    response_project = requests.get('https://golab-indigo-data-store.herokuapp.com/app/api1/project/' + project_info['id'])\n",
        "    for organisation_in_project in response_project.json()['project']['data']['organisations']:\n",
        "      organisations_used[organisation_in_project['id']] = True\n"
      ],
      "execution_count": null,
      "outputs": []
    },
    {
      "cell_type": "markdown",
      "metadata": {
        "id": "B0QIV6Augabe"
      },
      "source": [
        "# Display results"
      ]
    },
    {
      "cell_type": "code",
      "metadata": {
        "id": "5gPN_ITFgdBb"
      },
      "source": [
        "organisations_unused = [i for i in organisations_used.keys() if not organisations_used[i] ]\n",
        "for id in organisations_unused:\n",
        "  print(id)"
      ],
      "execution_count": null,
      "outputs": []
    }
  ]
}